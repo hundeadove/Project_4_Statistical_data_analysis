{
 "cells": [
  {
   "cell_type": "markdown",
   "id": "ec6e59c9",
   "metadata": {},
   "source": [
    "# Статистический анализ данных\n",
    "Вы аналитик популярного сервиса аренды самокатов GoFast. Вам передали данные о некоторых пользователях из нескольких городов, а также об их поездках. Проанализируйте данные и проверьте некоторые гипотезы, которые могут помочь бизнесу вырасти.\n",
    "Чтобы совершать поездки по городу, пользователи сервиса GoFast пользуются мобильным приложением. \n",
    "\n",
    "Сервисом можно пользоваться с подпиской и без нее.\n",
    "\n",
    "Без подписки:\n",
    "1. абонентская плата отсутствует;\n",
    "2. стоимость одной минуты поездки —8 рублей;\n",
    "3. стоимость старта (начала поездки) —  50 рублей;\n",
    "\n",
    "С подпиской Ultra:\n",
    "1. абонентская плата — 199 рублей в месяц;\n",
    "2. стоимость одной минуты поездки — 6 рублей;\n",
    "3. стоимость старта — бесплатно."
   ]
  },
  {
   "cell_type": "markdown",
   "id": "312e24fe",
   "metadata": {},
   "source": [
    "**Описание данных** \n",
    "\n",
    "Пользователи — \"users_go.csv\":\n",
    "\n",
    "* \"user_id\" — уникальный идентификатор пользователя;\n",
    "* \"name\" — имя пользователя;\n",
    "* \"age\" — возраст;\n",
    "* \"city\" — город;\n",
    "* \"subscription_type\" — тип подписки (free, ultra).\n",
    "\n",
    "Поездки — \"rides_go.csv\":\n",
    "\n",
    "* \"user_id\" — уникальный идентификатор пользователя;\n",
    "* \"distance\" — расстояние, которое пользователь проехал в текущей сессии (в метрах);\n",
    "* \"duration\" — продолжительность сессии (в минутах) — время с того момента, как пользователь нажал кнопку «Начать поездку» до момента, как он нажал кнопку «Завершить поездку»;\n",
    "* \"date\" — дата совершения поездки.\n",
    "\n",
    "Подписки — \"subscriptions_go.csv\":\n",
    "\n",
    "* \"subscription_type\" — тип подписки;\n",
    "* \"minute_price\" — стоимость одной минуты поездки по данной подписке;\n",
    "* \"start_ride_price\" — стоимость начала поездки;\n",
    "* \"subscription_fee\" — стоимость ежемесячного платёж."
   ]
  },
  {
   "cell_type": "markdown",
   "id": "8b81f74e",
   "metadata": {},
   "source": [
    "**План работы:**\n",
    "1. Загрузка библиотек и данных.\n",
    "2. Предобработка данных.\n",
    "3. Иследовательский анализ данных.\n",
    "4. Объединение данных.\n",
    "5. Подсчет выручки.\n",
    "6. Проверка гипотез.\n",
    "7. Выводы проекта."
   ]
  },
  {
   "cell_type": "markdown",
   "id": "0315bc19",
   "metadata": {},
   "source": [
    "### Загрузка библиотек и данных"
   ]
  },
  {
   "cell_type": "code",
   "execution_count": 1,
   "id": "df4dab4a",
   "metadata": {},
   "outputs": [],
   "source": [
    "import pandas as pd\n",
    "import matplotlib.pyplot as plt\n",
    "import copy\n",
    "import numpy as np\n",
    "from scipy import stats as st"
   ]
  },
  {
   "cell_type": "code",
   "execution_count": 2,
   "id": "5faf12bf",
   "metadata": {},
   "outputs": [],
   "source": [
    "users = pd.read_csv(r'~/users_go.csv')\n",
    "rides = pd.read_csv(r'~/rides_go.csv')\n",
    "subscriptions = pd.read_csv(r'~/subscriptions_go.csv')"
   ]
  },
  {
   "cell_type": "markdown",
   "id": "83d75dbb",
   "metadata": {},
   "source": [
    "Посмотрим основную информацию про пользователей"
   ]
  },
  {
   "cell_type": "code",
   "execution_count": 3,
   "id": "1f23e2ff",
   "metadata": {},
   "outputs": [
    {
     "name": "stdout",
     "output_type": "stream",
     "text": [
      "<class 'pandas.core.frame.DataFrame'>\n",
      "RangeIndex: 1565 entries, 0 to 1564\n",
      "Data columns (total 5 columns):\n",
      " #   Column             Non-Null Count  Dtype \n",
      "---  ------             --------------  ----- \n",
      " 0   user_id            1565 non-null   int64 \n",
      " 1   name               1565 non-null   object\n",
      " 2   age                1565 non-null   int64 \n",
      " 3   city               1565 non-null   object\n",
      " 4   subscription_type  1565 non-null   object\n",
      "dtypes: int64(2), object(3)\n",
      "memory usage: 412.6 KB\n",
      "None\n",
      "\n",
      "           user_id          age\n",
      "count  1565.000000  1565.000000\n",
      "mean    762.633866    24.922045\n",
      "std     443.260155     4.553496\n",
      "min       1.000000    12.000000\n",
      "25%     378.000000    22.000000\n",
      "50%     762.000000    25.000000\n",
      "75%    1146.000000    28.000000\n",
      "max    1534.000000    43.000000\n"
     ]
    },
    {
     "data": {
      "text/html": [
       "<div>\n",
       "<style scoped>\n",
       "    .dataframe tbody tr th:only-of-type {\n",
       "        vertical-align: middle;\n",
       "    }\n",
       "\n",
       "    .dataframe tbody tr th {\n",
       "        vertical-align: top;\n",
       "    }\n",
       "\n",
       "    .dataframe thead th {\n",
       "        text-align: right;\n",
       "    }\n",
       "</style>\n",
       "<table border=\"1\" class=\"dataframe\">\n",
       "  <thead>\n",
       "    <tr style=\"text-align: right;\">\n",
       "      <th></th>\n",
       "      <th>user_id</th>\n",
       "      <th>name</th>\n",
       "      <th>age</th>\n",
       "      <th>city</th>\n",
       "      <th>subscription_type</th>\n",
       "    </tr>\n",
       "  </thead>\n",
       "  <tbody>\n",
       "    <tr>\n",
       "      <th>0</th>\n",
       "      <td>1</td>\n",
       "      <td>Кира</td>\n",
       "      <td>22</td>\n",
       "      <td>Тюмень</td>\n",
       "      <td>ultra</td>\n",
       "    </tr>\n",
       "    <tr>\n",
       "      <th>1</th>\n",
       "      <td>2</td>\n",
       "      <td>Станислав</td>\n",
       "      <td>31</td>\n",
       "      <td>Омск</td>\n",
       "      <td>ultra</td>\n",
       "    </tr>\n",
       "    <tr>\n",
       "      <th>2</th>\n",
       "      <td>3</td>\n",
       "      <td>Алексей</td>\n",
       "      <td>20</td>\n",
       "      <td>Москва</td>\n",
       "      <td>ultra</td>\n",
       "    </tr>\n",
       "    <tr>\n",
       "      <th>3</th>\n",
       "      <td>4</td>\n",
       "      <td>Константин</td>\n",
       "      <td>26</td>\n",
       "      <td>Ростов-на-Дону</td>\n",
       "      <td>ultra</td>\n",
       "    </tr>\n",
       "    <tr>\n",
       "      <th>4</th>\n",
       "      <td>5</td>\n",
       "      <td>Адель</td>\n",
       "      <td>28</td>\n",
       "      <td>Омск</td>\n",
       "      <td>ultra</td>\n",
       "    </tr>\n",
       "    <tr>\n",
       "      <th>5</th>\n",
       "      <td>6</td>\n",
       "      <td>Регина</td>\n",
       "      <td>25</td>\n",
       "      <td>Краснодар</td>\n",
       "      <td>ultra</td>\n",
       "    </tr>\n",
       "    <tr>\n",
       "      <th>6</th>\n",
       "      <td>7</td>\n",
       "      <td>Игорь</td>\n",
       "      <td>23</td>\n",
       "      <td>Омск</td>\n",
       "      <td>ultra</td>\n",
       "    </tr>\n",
       "    <tr>\n",
       "      <th>7</th>\n",
       "      <td>8</td>\n",
       "      <td>Юрий</td>\n",
       "      <td>23</td>\n",
       "      <td>Краснодар</td>\n",
       "      <td>ultra</td>\n",
       "    </tr>\n",
       "    <tr>\n",
       "      <th>8</th>\n",
       "      <td>9</td>\n",
       "      <td>Ян</td>\n",
       "      <td>21</td>\n",
       "      <td>Пятигорск</td>\n",
       "      <td>ultra</td>\n",
       "    </tr>\n",
       "    <tr>\n",
       "      <th>9</th>\n",
       "      <td>10</td>\n",
       "      <td>Валерий</td>\n",
       "      <td>18</td>\n",
       "      <td>Екатеринбург</td>\n",
       "      <td>ultra</td>\n",
       "    </tr>\n",
       "    <tr>\n",
       "      <th>10</th>\n",
       "      <td>11</td>\n",
       "      <td>Агата</td>\n",
       "      <td>31</td>\n",
       "      <td>Краснодар</td>\n",
       "      <td>ultra</td>\n",
       "    </tr>\n",
       "    <tr>\n",
       "      <th>11</th>\n",
       "      <td>12</td>\n",
       "      <td>Марк</td>\n",
       "      <td>27</td>\n",
       "      <td>Тюмень</td>\n",
       "      <td>ultra</td>\n",
       "    </tr>\n",
       "    <tr>\n",
       "      <th>12</th>\n",
       "      <td>13</td>\n",
       "      <td>Ева</td>\n",
       "      <td>24</td>\n",
       "      <td>Краснодар</td>\n",
       "      <td>ultra</td>\n",
       "    </tr>\n",
       "    <tr>\n",
       "      <th>13</th>\n",
       "      <td>14</td>\n",
       "      <td>Антонина</td>\n",
       "      <td>18</td>\n",
       "      <td>Пятигорск</td>\n",
       "      <td>ultra</td>\n",
       "    </tr>\n",
       "    <tr>\n",
       "      <th>14</th>\n",
       "      <td>15</td>\n",
       "      <td>Валерия</td>\n",
       "      <td>24</td>\n",
       "      <td>Тюмень</td>\n",
       "      <td>ultra</td>\n",
       "    </tr>\n",
       "    <tr>\n",
       "      <th>15</th>\n",
       "      <td>16</td>\n",
       "      <td>Амалия</td>\n",
       "      <td>27</td>\n",
       "      <td>Краснодар</td>\n",
       "      <td>ultra</td>\n",
       "    </tr>\n",
       "    <tr>\n",
       "      <th>16</th>\n",
       "      <td>17</td>\n",
       "      <td>Даниил</td>\n",
       "      <td>29</td>\n",
       "      <td>Москва</td>\n",
       "      <td>ultra</td>\n",
       "    </tr>\n",
       "    <tr>\n",
       "      <th>17</th>\n",
       "      <td>18</td>\n",
       "      <td>Аделина</td>\n",
       "      <td>24</td>\n",
       "      <td>Сочи</td>\n",
       "      <td>ultra</td>\n",
       "    </tr>\n",
       "    <tr>\n",
       "      <th>18</th>\n",
       "      <td>19</td>\n",
       "      <td>Регина</td>\n",
       "      <td>32</td>\n",
       "      <td>Тюмень</td>\n",
       "      <td>ultra</td>\n",
       "    </tr>\n",
       "    <tr>\n",
       "      <th>19</th>\n",
       "      <td>20</td>\n",
       "      <td>Игорь</td>\n",
       "      <td>23</td>\n",
       "      <td>Омск</td>\n",
       "      <td>ultra</td>\n",
       "    </tr>\n",
       "  </tbody>\n",
       "</table>\n",
       "</div>"
      ],
      "text/plain": [
       "    user_id        name  age            city subscription_type\n",
       "0         1        Кира   22          Тюмень             ultra\n",
       "1         2   Станислав   31            Омск             ultra\n",
       "2         3     Алексей   20          Москва             ultra\n",
       "3         4  Константин   26  Ростов-на-Дону             ultra\n",
       "4         5       Адель   28            Омск             ultra\n",
       "5         6      Регина   25       Краснодар             ultra\n",
       "6         7       Игорь   23            Омск             ultra\n",
       "7         8        Юрий   23       Краснодар             ultra\n",
       "8         9          Ян   21       Пятигорск             ultra\n",
       "9        10     Валерий   18    Екатеринбург             ultra\n",
       "10       11       Агата   31       Краснодар             ultra\n",
       "11       12        Марк   27          Тюмень             ultra\n",
       "12       13         Ева   24       Краснодар             ultra\n",
       "13       14    Антонина   18       Пятигорск             ultra\n",
       "14       15     Валерия   24          Тюмень             ultra\n",
       "15       16      Амалия   27       Краснодар             ultra\n",
       "16       17      Даниил   29          Москва             ultra\n",
       "17       18     Аделина   24            Сочи             ultra\n",
       "18       19      Регина   32          Тюмень             ultra\n",
       "19       20       Игорь   23            Омск             ultra"
      ]
     },
     "execution_count": 3,
     "metadata": {},
     "output_type": "execute_result"
    },
    {
     "data": {
      "image/png": "[encoded data removed]",
      "text/plain": [
       "<Figure size 432x288 with 2 Axes>"
      ]
     },
     "metadata": {
      "needs_background": "light"
     },
     "output_type": "display_data"
    }
   ],
   "source": [
    "# Изучение датафрейма 'users' \n",
    "print(users.info(memory_usage='deep')) \n",
    "print()\n",
    "print(users.describe())\n",
    "users.hist()\n",
    "users.head(20)"
   ]
  },
  {
   "cell_type": "markdown",
   "id": "424394ce",
   "metadata": {},
   "source": [
    "Датафрейм users имеет 5 колонок и 1565 строк, пропуски и выбросы отсутсвуют. Некоторые столбцы имеют неоптимальный тип данных, их корректировка может снизить вес датафрейма. Названия столбцов соответствуют ‘змеиному’ стилю. Присутствуют дубликаты в столбце user_id. "
   ]
  },
  {
   "cell_type": "code",
   "execution_count": 4,
   "id": "6575f684",
   "metadata": {},
   "outputs": [
    {
     "data": {
      "text/plain": [
       "array(['Тюмень', 'Омск', 'Москва', 'Ростов-на-Дону', 'Краснодар',\n",
       "       'Пятигорск', 'Екатеринбург', 'Сочи'], dtype=object)"
      ]
     },
     "execution_count": 4,
     "metadata": {},
     "output_type": "execute_result"
    }
   ],
   "source": [
    "# Уникальные названия населенных пунктов\n",
    "users['city'].unique()"
   ]
  },
  {
   "cell_type": "markdown",
   "id": "c97c3147",
   "metadata": {},
   "source": [
    "Неявные дубликаты в столбце ‘city’ не обнаружены."
   ]
  },
  {
   "cell_type": "code",
   "execution_count": 6,
   "id": "0f5c8f87",
   "metadata": {},
   "outputs": [
    {
     "data": {
      "text/plain": [
       "array(['ultra', 'free'], dtype=object)"
      ]
     },
     "execution_count": 6,
     "metadata": {},
     "output_type": "execute_result"
    }
   ],
   "source": [
    "# Уникальные типы\n",
    "users['subscription_type'].unique()"
   ]
  },
  {
   "cell_type": "markdown",
   "id": "9cbc292b",
   "metadata": {},
   "source": [
    "Имеющиеся значения в столбце ‘subscription_type’ позволяют изменить ‘ultra’ и ‘free’ на True и False соответственно, а также использовать для этого столбца тип данных ‘bool’."
   ]
  },
  {
   "cell_type": "markdown",
   "id": "8c8eefb7",
   "metadata": {},
   "source": [
    "Посмотрим основную информацию про поездки пользователей."
   ]
  },
  {
   "cell_type": "code",
   "execution_count": 8,
   "id": "ca77ef30",
   "metadata": {},
   "outputs": [
    {
     "name": "stdout",
     "output_type": "stream",
     "text": [
      "<class 'pandas.core.frame.DataFrame'>\n",
      "RangeIndex: 18068 entries, 0 to 18067\n",
      "Data columns (total 4 columns):\n",
      " #   Column    Non-Null Count  Dtype  \n",
      "---  ------    --------------  -----  \n",
      " 0   user_id   18068 non-null  int64  \n",
      " 1   distance  18068 non-null  float64\n",
      " 2   duration  18068 non-null  float64\n",
      " 3   date      18068 non-null  object \n",
      "dtypes: float64(2), int64(1), object(1)\n",
      "memory usage: 564.8+ KB\n",
      "None\n",
      "\n",
      "            user_id      distance      duration\n",
      "count  18068.000000  18068.000000  18068.000000\n",
      "mean     842.869936   3070.659976     17.805011\n",
      "std      434.734317   1116.831209      6.091051\n",
      "min        1.000000      0.855683      0.500000\n",
      "25%      487.000000   2543.226360     13.597563\n",
      "50%      889.000000   3133.609994     17.678395\n",
      "75%     1213.250000   3776.222735     21.724800\n",
      "max     1534.000000   7211.007745     40.823963\n"
     ]
    },
    {
     "data": {
      "text/html": [
       "<div>\n",
       "<style scoped>\n",
       "    .dataframe tbody tr th:only-of-type {\n",
       "        vertical-align: middle;\n",
       "    }\n",
       "\n",
       "    .dataframe tbody tr th {\n",
       "        vertical-align: top;\n",
       "    }\n",
       "\n",
       "    .dataframe thead th {\n",
       "        text-align: right;\n",
       "    }\n",
       "</style>\n",
       "<table border=\"1\" class=\"dataframe\">\n",
       "  <thead>\n",
       "    <tr style=\"text-align: right;\">\n",
       "      <th></th>\n",
       "      <th>user_id</th>\n",
       "      <th>distance</th>\n",
       "      <th>duration</th>\n",
       "      <th>date</th>\n",
       "    </tr>\n",
       "  </thead>\n",
       "  <tbody>\n",
       "    <tr>\n",
       "      <th>0</th>\n",
       "      <td>1</td>\n",
       "      <td>4409.919140</td>\n",
       "      <td>25.599769</td>\n",
       "      <td>2021-01-01</td>\n",
       "    </tr>\n",
       "    <tr>\n",
       "      <th>1</th>\n",
       "      <td>1</td>\n",
       "      <td>2617.592153</td>\n",
       "      <td>15.816871</td>\n",
       "      <td>2021-01-18</td>\n",
       "    </tr>\n",
       "    <tr>\n",
       "      <th>2</th>\n",
       "      <td>1</td>\n",
       "      <td>754.159807</td>\n",
       "      <td>6.232113</td>\n",
       "      <td>2021-04-20</td>\n",
       "    </tr>\n",
       "    <tr>\n",
       "      <th>3</th>\n",
       "      <td>1</td>\n",
       "      <td>2694.783254</td>\n",
       "      <td>18.511000</td>\n",
       "      <td>2021-08-11</td>\n",
       "    </tr>\n",
       "    <tr>\n",
       "      <th>4</th>\n",
       "      <td>1</td>\n",
       "      <td>4028.687306</td>\n",
       "      <td>26.265803</td>\n",
       "      <td>2021-08-28</td>\n",
       "    </tr>\n",
       "  </tbody>\n",
       "</table>\n",
       "</div>"
      ],
      "text/plain": [
       "   user_id     distance   duration        date\n",
       "0        1  4409.919140  25.599769  2021-01-01\n",
       "1        1  2617.592153  15.816871  2021-01-18\n",
       "2        1   754.159807   6.232113  2021-04-20\n",
       "3        1  2694.783254  18.511000  2021-08-11\n",
       "4        1  4028.687306  26.265803  2021-08-28"
      ]
     },
     "execution_count": 8,
     "metadata": {},
     "output_type": "execute_result"
    },
    {
     "data": {
      "image/png": "[encoded data removed]",
      "text/plain": [
       "<Figure size 432x288 with 4 Axes>"
      ]
     },
     "metadata": {
      "needs_background": "light"
     },
     "output_type": "display_data"
    }
   ],
   "source": [
    "# Изучение датафрейма rides \n",
    "print(rides.info())\n",
    "print()\n",
    "print(rides.describe())\n",
    "rides.hist() \n",
    "rides.head()"
   ]
  },
  {
   "cell_type": "markdown",
   "id": "3b83860c",
   "metadata": {},
   "source": [
    "В датафрейме rides 4 колонки и 18068 строк. Пропущенных значений нет. Неоптимальные типы данных у 'user_id' и 'date'. Названия столбцов соответствуют ‘змеиному’ стилю. Возможно наличие выбросов в столбцах 'distance' и 'duration'."
   ]
  },
  {
   "cell_type": "markdown",
   "id": "ba40f3c4",
   "metadata": {},
   "source": [
    "Посмотрим основную информацию о подписках."
   ]
  },
  {
   "cell_type": "code",
   "execution_count": 10,
   "id": "fd45be20",
   "metadata": {},
   "outputs": [
    {
     "name": "stdout",
     "output_type": "stream",
     "text": [
      "<class 'pandas.core.frame.DataFrame'>\n",
      "RangeIndex: 2 entries, 0 to 1\n",
      "Data columns (total 4 columns):\n",
      " #   Column             Non-Null Count  Dtype \n",
      "---  ------             --------------  ----- \n",
      " 0   subscription_type  2 non-null      object\n",
      " 1   minute_price       2 non-null      int64 \n",
      " 2   start_ride_price   2 non-null      int64 \n",
      " 3   subscription_fee   2 non-null      int64 \n",
      "dtypes: int64(3), object(1)\n",
      "memory usage: 192.0+ bytes\n",
      "None\n"
     ]
    },
    {
     "data": {
      "text/html": [
       "<div>\n",
       "<style scoped>\n",
       "    .dataframe tbody tr th:only-of-type {\n",
       "        vertical-align: middle;\n",
       "    }\n",
       "\n",
       "    .dataframe tbody tr th {\n",
       "        vertical-align: top;\n",
       "    }\n",
       "\n",
       "    .dataframe thead th {\n",
       "        text-align: right;\n",
       "    }\n",
       "</style>\n",
       "<table border=\"1\" class=\"dataframe\">\n",
       "  <thead>\n",
       "    <tr style=\"text-align: right;\">\n",
       "      <th></th>\n",
       "      <th>subscription_type</th>\n",
       "      <th>minute_price</th>\n",
       "      <th>start_ride_price</th>\n",
       "      <th>subscription_fee</th>\n",
       "    </tr>\n",
       "  </thead>\n",
       "  <tbody>\n",
       "    <tr>\n",
       "      <th>0</th>\n",
       "      <td>free</td>\n",
       "      <td>8</td>\n",
       "      <td>50</td>\n",
       "      <td>0</td>\n",
       "    </tr>\n",
       "    <tr>\n",
       "      <th>1</th>\n",
       "      <td>ultra</td>\n",
       "      <td>6</td>\n",
       "      <td>0</td>\n",
       "      <td>199</td>\n",
       "    </tr>\n",
       "  </tbody>\n",
       "</table>\n",
       "</div>"
      ],
      "text/plain": [
       "  subscription_type  minute_price  start_ride_price  subscription_fee\n",
       "0              free             8                50                 0\n",
       "1             ultra             6                 0               199"
      ]
     },
     "execution_count": 10,
     "metadata": {},
     "output_type": "execute_result"
    }
   ],
   "source": [
    "# Изучение датафрейма 'subscriptions' \n",
    "print(subscriptions.info())\n",
    "subscriptions.head(20) "
   ]
  },
  {
   "cell_type": "markdown",
   "id": "ae2f79d7",
   "metadata": {},
   "source": [
    "В датафрейме subscriptions 4 столбца и 2 строки без пропусков и выбросов. Неоптимальные типы данных во всех столбцах. Это не является критичным при весе датафрейма в 192 байта. Названия столбцов соответствуют ‘змеиному’ стилю."
   ]
  },
  {
   "cell_type": "markdown",
   "id": "7aea2719",
   "metadata": {},
   "source": [
    "### Предобработка данных"
   ]
  },
  {
   "cell_type": "markdown",
   "id": "76de0397",
   "metadata": {},
   "source": [
    "##### Корректировка типов данных столбцов"
   ]
  },
  {
   "cell_type": "code",
   "execution_count": 11,
   "id": "c1dc9720",
   "metadata": {},
   "outputs": [],
   "source": [
    "# Корректировка столбцов в 'users'\n",
    "users['user_id'] = users['user_id'].astype('uint16')\n",
    "users['age'] = users['age'].astype('uint8')\n",
    "users.loc[users['subscription_type'] == 'ultra', 'subscription_type'] = True # 'ultra'\n",
    "users.loc[users['subscription_type'] == 'free', 'subscription_type'] = False # 'free'\n",
    "users['subscription_type'] = users['subscription_type'].astype('bool')"
   ]
  },
  {
   "cell_type": "code",
   "execution_count": 12,
   "id": "61758065",
   "metadata": {},
   "outputs": [],
   "source": [
    "# Корректировка столбца 'date' в датафейме 'rides'\n",
    "rides['date'] = pd.to_datetime(rides['date'], format='%Y-%m-%d')\n",
    "rides['user_id'] = rides['user_id'].astype('uint16')"
   ]
  },
  {
   "cell_type": "code",
   "execution_count": 13,
   "id": "b32953f3",
   "metadata": {},
   "outputs": [],
   "source": [
    "# Корректировка столбца 'subscription_type' в датафейме 'subscriptions_go'\n",
    "subscriptions.loc[subscriptions['subscription_type'] == 'ultra', 'subscription_type'] = True # 'ultra'\n",
    "subscriptions.loc[subscriptions['subscription_type'] == 'free', 'subscription_type'] = False # 'free'\n",
    "subscriptions['subscription_type'] = subscriptions['subscription_type'].astype('bool')\n",
    "for i in ['minute_price', 'start_ride_price', 'subscription_fee']:\n",
    "    subscriptions[i] = subscriptions[i].astype('uint8')"
   ]
  },
  {
   "cell_type": "markdown",
   "id": "6fefec79",
   "metadata": {},
   "source": [
    "##### Добавление столбца с номером месяца на основе столбца date."
   ]
  },
  {
   "cell_type": "code",
   "execution_count": 14,
   "id": "f6e63c54",
   "metadata": {},
   "outputs": [],
   "source": [
    "rides['month_number'] = rides['date'].dt.month\n",
    "##### Корректировка типа данных\n",
    "rides['month_number'] = rides['month_number'].astype('uint8')"
   ]
  },
  {
   "cell_type": "code",
   "execution_count": 15,
   "id": "138872ae",
   "metadata": {},
   "outputs": [
    {
     "name": "stdout",
     "output_type": "stream",
     "text": [
      "Период значений столбца date от 2021-01-01 00:00:00 до 2021-12-30 00:00:00\n"
     ]
    }
   ],
   "source": [
    "min_date = rides['date'].min()\n",
    "max_date = rides['date'].max()\n",
    "print(f'Период значений столбца date от {min_date} до {max_date}')"
   ]
  },
  {
   "cell_type": "markdown",
   "id": "485802bc",
   "metadata": {},
   "source": [
    "##### Обработка неявных дубликатов."
   ]
  },
  {
   "cell_type": "code",
   "execution_count": 16,
   "id": "2094cf9f",
   "metadata": {},
   "outputs": [],
   "source": [
    "# Удаление дубликатов идентификаторов в столбце 'user_id' датафрейма 'users'\n",
    "users = users.sort_values(by='user_id').loc[users['user_id'].duplicated() == False]"
   ]
  },
  {
   "cell_type": "code",
   "execution_count": 17,
   "id": "4268c877",
   "metadata": {},
   "outputs": [
    {
     "data": {
      "text/plain": [
       "user_id              0\n",
       "name                 0\n",
       "age                  0\n",
       "city                 0\n",
       "subscription_type    0\n",
       "dtype: int64"
      ]
     },
     "execution_count": 17,
     "metadata": {},
     "output_type": "execute_result"
    }
   ],
   "source": [
    "# Проверка наличия дубликатов в users\n",
    "users.sort_values(by='user_id').loc[users['user_id'].duplicated () == True].count()"
   ]
  },
  {
   "cell_type": "markdown",
   "id": "a6304029",
   "metadata": {},
   "source": [
    "Дубликаты удалены из 'user_id' датафрейма user."
   ]
  },
  {
   "cell_type": "markdown",
   "id": "68e6e649",
   "metadata": {},
   "source": [
    "Проверка результатов предобработка данных."
   ]
  },
  {
   "cell_type": "code",
   "execution_count": 18,
   "id": "6f9d229b",
   "metadata": {},
   "outputs": [
    {
     "name": "stdout",
     "output_type": "stream",
     "text": [
      "<class 'pandas.core.frame.DataFrame'>\n",
      "Int64Index: 1534 entries, 0 to 1533\n",
      "Data columns (total 5 columns):\n",
      " #   Column             Non-Null Count  Dtype \n",
      "---  ------             --------------  ----- \n",
      " 0   user_id            1534 non-null   uint16\n",
      " 1   name               1534 non-null   object\n",
      " 2   age                1534 non-null   uint8 \n",
      " 3   city               1534 non-null   object\n",
      " 4   subscription_type  1534 non-null   bool  \n",
      "dtypes: bool(1), object(2), uint16(1), uint8(1)\n",
      "memory usage: 331.8 KB\n"
     ]
    },
    {
     "data": {
      "text/html": [
       "<div>\n",
       "<style scoped>\n",
       "    .dataframe tbody tr th:only-of-type {\n",
       "        vertical-align: middle;\n",
       "    }\n",
       "\n",
       "    .dataframe tbody tr th {\n",
       "        vertical-align: top;\n",
       "    }\n",
       "\n",
       "    .dataframe thead th {\n",
       "        text-align: right;\n",
       "    }\n",
       "</style>\n",
       "<table border=\"1\" class=\"dataframe\">\n",
       "  <thead>\n",
       "    <tr style=\"text-align: right;\">\n",
       "      <th></th>\n",
       "      <th>user_id</th>\n",
       "      <th>name</th>\n",
       "      <th>age</th>\n",
       "      <th>city</th>\n",
       "      <th>subscription_type</th>\n",
       "    </tr>\n",
       "  </thead>\n",
       "  <tbody>\n",
       "    <tr>\n",
       "      <th>0</th>\n",
       "      <td>1</td>\n",
       "      <td>Кира</td>\n",
       "      <td>22</td>\n",
       "      <td>Тюмень</td>\n",
       "      <td>True</td>\n",
       "    </tr>\n",
       "    <tr>\n",
       "      <th>1</th>\n",
       "      <td>2</td>\n",
       "      <td>Станислав</td>\n",
       "      <td>31</td>\n",
       "      <td>Омск</td>\n",
       "      <td>True</td>\n",
       "    </tr>\n",
       "    <tr>\n",
       "      <th>2</th>\n",
       "      <td>3</td>\n",
       "      <td>Алексей</td>\n",
       "      <td>20</td>\n",
       "      <td>Москва</td>\n",
       "      <td>True</td>\n",
       "    </tr>\n",
       "    <tr>\n",
       "      <th>3</th>\n",
       "      <td>4</td>\n",
       "      <td>Константин</td>\n",
       "      <td>26</td>\n",
       "      <td>Ростов-на-Дону</td>\n",
       "      <td>True</td>\n",
       "    </tr>\n",
       "    <tr>\n",
       "      <th>4</th>\n",
       "      <td>5</td>\n",
       "      <td>Адель</td>\n",
       "      <td>28</td>\n",
       "      <td>Омск</td>\n",
       "      <td>True</td>\n",
       "    </tr>\n",
       "  </tbody>\n",
       "</table>\n",
       "</div>"
      ],
      "text/plain": [
       "   user_id        name  age            city  subscription_type\n",
       "0        1        Кира   22          Тюмень               True\n",
       "1        2   Станислав   31            Омск               True\n",
       "2        3     Алексей   20          Москва               True\n",
       "3        4  Константин   26  Ростов-на-Дону               True\n",
       "4        5       Адель   28            Омск               True"
      ]
     },
     "execution_count": 18,
     "metadata": {},
     "output_type": "execute_result"
    }
   ],
   "source": [
    "# Датафейм 'users'\n",
    "users.info(memory_usage='deep')\n",
    "users.head()"
   ]
  },
  {
   "cell_type": "markdown",
   "id": "3cb050ce",
   "metadata": {},
   "source": [
    "Итак, мы обработали дубликаты, сократили количество строк с 1565 до 1534, вес датафрейма уменьшился почти с 412.6 Кб до 306.2 Кб."
   ]
  },
  {
   "cell_type": "code",
   "execution_count": 19,
   "id": "49ad1e1f",
   "metadata": {},
   "outputs": [
    {
     "name": "stdout",
     "output_type": "stream",
     "text": [
      "<class 'pandas.core.frame.DataFrame'>\n",
      "RangeIndex: 18068 entries, 0 to 18067\n",
      "Data columns (total 5 columns):\n",
      " #   Column        Non-Null Count  Dtype         \n",
      "---  ------        --------------  -----         \n",
      " 0   user_id       18068 non-null  uint16        \n",
      " 1   distance      18068 non-null  float64       \n",
      " 2   duration      18068 non-null  float64       \n",
      " 3   date          18068 non-null  datetime64[ns]\n",
      " 4   month_number  18068 non-null  uint8         \n",
      "dtypes: datetime64[ns](1), float64(2), uint16(1), uint8(1)\n",
      "memory usage: 476.5 KB\n",
      "None\n",
      "\n",
      "            user_id      distance      duration  month_number\n",
      "count  18068.000000  18068.000000  18068.000000  18068.000000\n",
      "mean     842.869936   3070.659976     17.805011      6.486772\n",
      "std      434.734317   1116.831209      6.091051      3.437410\n",
      "min        1.000000      0.855683      0.500000      1.000000\n",
      "25%      487.000000   2543.226360     13.597563      4.000000\n",
      "50%      889.000000   3133.609994     17.678395      6.000000\n",
      "75%     1213.250000   3776.222735     21.724800      9.000000\n",
      "max     1534.000000   7211.007745     40.823963     12.000000\n",
      "Минимальная дата : 2021-01-01 00:00:00\n",
      "Максимальная дата: 2021-12-30 00:00:00\n"
     ]
    },
    {
     "data": {
      "image/png": "[encoded data removed]",
      "text/plain": [
       "<Figure size 432x288 with 1 Axes>"
      ]
     },
     "metadata": {
      "needs_background": "light"
     },
     "output_type": "display_data"
    }
   ],
   "source": [
    "#датафрейм rides \n",
    "print(rides.info())\n",
    "print()\n",
    "print(rides.describe())\n",
    "print('Минимальная дата :', min_date)\n",
    "print('Максимальная дата:', max_date)\n",
    "rides['date'].hist()\n",
    "plt.show()"
   ]
  },
  {
   "cell_type": "markdown",
   "id": "54ee312f",
   "metadata": {},
   "source": [
    "В процессе предобработки данных в датафрейме rides был добавлен столбец 'month_number' и изменены типы данных столбцов. Также проверены данные в столбце с датами. Диапазон дат с 01.01.2021 по 30.12.2021. В пределах этого диапазона дат количество значений относительно равномерно распределено."
   ]
  },
  {
   "cell_type": "code",
   "execution_count": 20,
   "id": "de08e41d",
   "metadata": {},
   "outputs": [
    {
     "name": "stdout",
     "output_type": "stream",
     "text": [
      "<class 'pandas.core.frame.DataFrame'>\n",
      "RangeIndex: 2 entries, 0 to 1\n",
      "Data columns (total 4 columns):\n",
      " #   Column             Non-Null Count  Dtype\n",
      "---  ------             --------------  -----\n",
      " 0   subscription_type  2 non-null      bool \n",
      " 1   minute_price       2 non-null      uint8\n",
      " 2   start_ride_price   2 non-null      uint8\n",
      " 3   subscription_fee   2 non-null      uint8\n",
      "dtypes: bool(1), uint8(3)\n",
      "memory usage: 136.0 bytes\n"
     ]
    },
    {
     "data": {
      "text/html": [
       "<div>\n",
       "<style scoped>\n",
       "    .dataframe tbody tr th:only-of-type {\n",
       "        vertical-align: middle;\n",
       "    }\n",
       "\n",
       "    .dataframe tbody tr th {\n",
       "        vertical-align: top;\n",
       "    }\n",
       "\n",
       "    .dataframe thead th {\n",
       "        text-align: right;\n",
       "    }\n",
       "</style>\n",
       "<table border=\"1\" class=\"dataframe\">\n",
       "  <thead>\n",
       "    <tr style=\"text-align: right;\">\n",
       "      <th></th>\n",
       "      <th>subscription_type</th>\n",
       "      <th>minute_price</th>\n",
       "      <th>start_ride_price</th>\n",
       "      <th>subscription_fee</th>\n",
       "    </tr>\n",
       "  </thead>\n",
       "  <tbody>\n",
       "    <tr>\n",
       "      <th>0</th>\n",
       "      <td>False</td>\n",
       "      <td>8</td>\n",
       "      <td>50</td>\n",
       "      <td>0</td>\n",
       "    </tr>\n",
       "    <tr>\n",
       "      <th>1</th>\n",
       "      <td>True</td>\n",
       "      <td>6</td>\n",
       "      <td>0</td>\n",
       "      <td>199</td>\n",
       "    </tr>\n",
       "  </tbody>\n",
       "</table>\n",
       "</div>"
      ],
      "text/plain": [
       "   subscription_type  minute_price  start_ride_price  subscription_fee\n",
       "0              False             8                50                 0\n",
       "1               True             6                 0               199"
      ]
     },
     "execution_count": 20,
     "metadata": {},
     "output_type": "execute_result"
    }
   ],
   "source": [
    "# Датафейм 'subscriptions'\n",
    "subscriptions.info()\n",
    "subscriptions.head()"
   ]
  },
  {
   "cell_type": "code",
   "execution_count": 21,
   "id": "1e3a8b13",
   "metadata": {},
   "outputs": [
    {
     "data": {
      "text/html": [
       "<div>\n",
       "<style scoped>\n",
       "    .dataframe tbody tr th:only-of-type {\n",
       "        vertical-align: middle;\n",
       "    }\n",
       "\n",
       "    .dataframe tbody tr th {\n",
       "        vertical-align: top;\n",
       "    }\n",
       "\n",
       "    .dataframe thead th {\n",
       "        text-align: right;\n",
       "    }\n",
       "</style>\n",
       "<table border=\"1\" class=\"dataframe\">\n",
       "  <thead>\n",
       "    <tr style=\"text-align: right;\">\n",
       "      <th></th>\n",
       "      <th>subscription_type</th>\n",
       "      <th>minute_price</th>\n",
       "      <th>start_ride_price</th>\n",
       "      <th>subscription_fee</th>\n",
       "    </tr>\n",
       "  </thead>\n",
       "  <tbody>\n",
       "    <tr>\n",
       "      <th>0</th>\n",
       "      <td>free</td>\n",
       "      <td>8</td>\n",
       "      <td>50</td>\n",
       "      <td>0</td>\n",
       "    </tr>\n",
       "    <tr>\n",
       "      <th>1</th>\n",
       "      <td>ultra</td>\n",
       "      <td>6</td>\n",
       "      <td>0</td>\n",
       "      <td>199</td>\n",
       "    </tr>\n",
       "  </tbody>\n",
       "</table>\n",
       "</div>"
      ],
      "text/plain": [
       "  subscription_type  minute_price  start_ride_price  subscription_fee\n",
       "0              free             8                50                 0\n",
       "1             ultra             6                 0               199"
      ]
     },
     "execution_count": 21,
     "metadata": {},
     "output_type": "execute_result"
    }
   ],
   "source": [
    "# Функция для более наглядного отображения значений\n",
    "# 'ultra' и 'free' в поле 'subscription_type' разных датафреймов\n",
    "def subscriptions_go_translate(data):\n",
    "    result = copy.deepcopy(data)\n",
    "    result.loc[result['subscription_type'] == True, 'subscription_type'] = 'ultra'\n",
    "    result.loc[result['subscription_type'] == False, 'subscription_type'] = 'free'\n",
    "    return result\n",
    "\n",
    "subscriptions_go_translate(subscriptions).head()"
   ]
  },
  {
   "cell_type": "markdown",
   "id": "9d9bd02f",
   "metadata": {},
   "source": [
    "Мы обработали датафреймы, удалив дубликаты и изменив типы данных. Последнее несильно повлияло на вес, но для более крупных датафреймов, думаю, это было бы очень кстати."
   ]
  },
  {
   "cell_type": "markdown",
   "id": "d8befc83",
   "metadata": {},
   "source": [
    "### Исследовательский анализ данных"
   ]
  },
  {
   "cell_type": "code",
   "execution_count": 22,
   "id": "39fdba81",
   "metadata": {},
   "outputs": [],
   "source": [
    "# Группировка значений\n",
    "def quality_groupby(data, column):\n",
    "    if 'subscription_fee' in subscriptions.columns:\n",
    "        result = subscriptions_go_translate(data).groupby([column])[column].agg(['count']).sort_values(by='count')\n",
    "    else:\n",
    "        result = data.groupby([column])[column].agg(['count']).sort_values(by='count')\n",
    "\n",
    "    result['percent'] = result['count'] / result['count'].sum()\n",
    "    return result"
   ]
  },
  {
   "cell_type": "code",
   "execution_count": 23,
   "id": "79ef9d8f",
   "metadata": {},
   "outputs": [],
   "source": [
    "# Функции визуализации столбцов с качественными данными\n",
    "def quality(data, column, xlabel, ylabel, title):\n",
    "    print('Название столбца:', column)\n",
    "    go = quality_groupby(data, column)\n",
    "    go.columns = {'Количество':'count', 'Доля':'percent'}\n",
    "    \n",
    "    plt.barh(\n",
    "        go.index, \n",
    "        go['Количество'].values\n",
    "    )\n",
    "    plt.gca().set(xlabel=f'${xlabel}$', ylabel=f'${ylabel}$')\n",
    "    plt.title(f'{title}')\n",
    "    plt.show()\n",
    "    \n",
    "    print('Значения датафрейма:')\n",
    "    print(go)\n",
    "    print('\\nОписание датафрейма:')\n",
    "    print(go.describe())"
   ]
  },
  {
   "cell_type": "code",
   "execution_count": 24,
   "id": "24c3097c",
   "metadata": {},
   "outputs": [],
   "source": [
    "# Функция визуализации столбцов с количественными данными\n",
    "def quantity(data, column, bins_num, xlabel, ylabel, title):\n",
    "    print('Название столбца:', column)\n",
    "    data[column].hist(bins=bins_num)\n",
    "    plt.gca().set(xlabel=f'${xlabel}$', ylabel=f'${ylabel}$')\n",
    "    plt.title(f'{title}')\n",
    "    plt.show()\n",
    "    print('Описание датафрейма:')\n",
    "    print(data[column].describe().round(0))"
   ]
  },
  {
   "cell_type": "markdown",
   "id": "d0bdbf14",
   "metadata": {},
   "source": [
    "##### Частота встречаемости городов."
   ]
  },
  {
   "cell_type": "code",
   "execution_count": 25,
   "id": "7e8c8b41",
   "metadata": {},
   "outputs": [
    {
     "name": "stdout",
     "output_type": "stream",
     "text": [
      "Название столбца: city\n"
     ]
    },
    {
     "data": {
      "image/png": "[encoded data removed]",
      "text/plain": [
       "<Figure size 432x288 with 1 Axes>"
      ]
     },
     "metadata": {
      "needs_background": "light"
     },
     "output_type": "display_data"
    },
    {
     "name": "stdout",
     "output_type": "stream",
     "text": [
      "Значения датафрейма:\n",
      "                Количество      Доля\n",
      "city                                \n",
      "Москва                 168  0.109518\n",
      "Тюмень                 180  0.117340\n",
      "Омск                   183  0.119296\n",
      "Сочи                   189  0.123207\n",
      "Краснодар              193  0.125815\n",
      "Ростов-на-Дону         198  0.129074\n",
      "Екатеринбург           204  0.132986\n",
      "Пятигорск              219  0.142764\n",
      "\n",
      "Описание датафрейма:\n",
      "       Количество      Доля\n",
      "count    8.000000  8.000000\n",
      "mean   191.750000  0.125000\n",
      "std     15.672998  0.010217\n",
      "min    168.000000  0.109518\n",
      "25%    182.250000  0.118807\n",
      "50%    191.000000  0.124511\n",
      "75%    199.500000  0.130052\n",
      "max    219.000000  0.142764\n"
     ]
    }
   ],
   "source": [
    "quality(\n",
    "    users, \n",
    "    'city', \n",
    "    'Количество_  использований_  сервиса', \n",
    "    'Города', \n",
    "    'Количество использований сервиса в разных городах'\n",
    ")"
   ]
  },
  {
   "cell_type": "markdown",
   "id": "3b851779",
   "metadata": {},
   "source": [
    "Лидером по частотности является Пятигорск - 219 строк. Далее Екатеринбург - 204 строки. И последним входит в тройку - Ростов-на-Дону - 198 строк. Наименьшее количество в Москве - 168. "
   ]
  },
  {
   "cell_type": "markdown",
   "id": "800e5ffe",
   "metadata": {},
   "source": [
    "##### Соотношение пользователей с подпиской и без подписки."
   ]
  },
  {
   "cell_type": "code",
   "execution_count": 26,
   "id": "afe99498",
   "metadata": {},
   "outputs": [
    {
     "name": "stdout",
     "output_type": "stream",
     "text": [
      "Название столбца: subscription_type\n",
      "Значения датафрейма:\n",
      "\n",
      "                   Количество      Доля\n",
      "subscription_type                      \n",
      "ultra                     699  0.455671\n",
      "free                      835  0.544329\n",
      "\n",
      "Описание датафрейма:\n",
      "       Количество      Доля\n",
      "count    2.000000  2.000000\n",
      "mean   767.000000  0.500000\n",
      "std     96.166522  0.062690\n",
      "min    699.000000  0.455671\n",
      "25%    733.000000  0.477836\n",
      "50%    767.000000  0.500000\n",
      "75%    801.000000  0.522164\n",
      "max    835.000000  0.544329\n"
     ]
    },
    {
     "data": {
      "image/png": "[encoded data removed]",
      "text/plain": [
       "<Figure size 360x360 with 1 Axes>"
      ]
     },
     "metadata": {},
     "output_type": "display_data"
    }
   ],
   "source": [
    "print('Название столбца:', 'subscription_type')\n",
    "go = quality_groupby(users, 'subscription_type')\n",
    "go.columns = {'Количество':'count', 'Доля':'percent'}\n",
    "\n",
    "    \n",
    "print('Значения датафрейма:')\n",
    "print()\n",
    "print(go)\n",
    "print('\\nОписание датафрейма:')\n",
    "print(go.describe())\n",
    "\n",
    "users['subscription_type'].value_counts().plot.pie(autopct='%1.1f%%', figsize=(5, 5))\n",
    "plt.title('Соотношение пользователей с подпиской и без подписки')\n",
    "plt.show()"
   ]
  },
  {
   "cell_type": "markdown",
   "id": "ea0d1dd3",
   "metadata": {},
   "source": [
    "Пользователей с подпиской «free» всего 835, что составляет 54.43% от общего количества и на 136 больше, чем с подпиской «ultra»"
   ]
  },
  {
   "cell_type": "markdown",
   "id": "569a1e24",
   "metadata": {},
   "source": [
    "##### Возраст пользователей."
   ]
  },
  {
   "cell_type": "code",
   "execution_count": 27,
   "id": "3c560c51",
   "metadata": {},
   "outputs": [
    {
     "name": "stdout",
     "output_type": "stream",
     "text": [
      "Название столбца: age\n"
     ]
    },
    {
     "data": {
      "image/png": "[encoded data removed]",
      "text/plain": [
       "<Figure size 432x288 with 1 Axes>"
      ]
     },
     "metadata": {
      "needs_background": "light"
     },
     "output_type": "display_data"
    },
    {
     "name": "stdout",
     "output_type": "stream",
     "text": [
      "Описание датафрейма:\n",
      "count    1534.0\n",
      "mean       25.0\n",
      "std         5.0\n",
      "min        12.0\n",
      "25%        22.0\n",
      "50%        25.0\n",
      "75%        28.0\n",
      "max        43.0\n",
      "Name: age, dtype: float64\n"
     ]
    }
   ],
   "source": [
    "quantity(\n",
    "    users, \n",
    "    'age', \n",
    "    users['age'].max()-users['age'].min(), \n",
    "    'Возраст', \n",
    "    'Количество_ пользователей',\n",
    "    'Распределение пользователей по возрастам' \n",
    ")"
   ]
  },
  {
   "cell_type": "markdown",
   "id": "25ba7341",
   "metadata": {},
   "source": [
    "Услугами сервиса аренды самокатов GoFast пользуются люди с 12 лет до 43. Распределение возрастной кривой имеет нормальное распределние. Медианой здесь является возраст 25 лет, как и максимальное количество пользователей этого возраста."
   ]
  },
  {
   "cell_type": "markdown",
   "id": "ea60c298",
   "metadata": {},
   "source": [
    "##### Расстояние, которое пользователь преодолел за одну поездку."
   ]
  },
  {
   "cell_type": "code",
   "execution_count": 28,
   "id": "525e1e16",
   "metadata": {},
   "outputs": [
    {
     "name": "stdout",
     "output_type": "stream",
     "text": [
      "Название столбца: distance\n"
     ]
    },
    {
     "data": {
      "image/png": "[encoded data removed]",
      "text/plain": [
       "<Figure size 432x288 with 1 Axes>"
      ]
     },
     "metadata": {
      "needs_background": "light"
     },
     "output_type": "display_data"
    },
    {
     "name": "stdout",
     "output_type": "stream",
     "text": [
      "Описание датафрейма:\n",
      "count    18068.0\n",
      "mean      3071.0\n",
      "std       1117.0\n",
      "min          1.0\n",
      "25%       2543.0\n",
      "50%       3134.0\n",
      "75%       3776.0\n",
      "max       7211.0\n",
      "Name: distance, dtype: float64\n"
     ]
    }
   ],
   "source": [
    "quantity(\n",
    "    rides, \n",
    "    'distance', \n",
    "     int((rides['distance'].max()-rides['distance'].min()) / 100), \n",
    "    'Растояние_ одной_ поездки', \n",
    "    'Количество_ поездок',\n",
    "    'Распределение количества поездок по их дистанции' \n",
    ")"
   ]
  },
  {
   "cell_type": "markdown",
   "id": "bf066e60",
   "metadata": {},
   "source": [
    "Кривая графика нормально распределена, за исключением двух пиков в точках 700 метров и 3200. Медиана - 3134 метра. Пользователи преодолевают расстояния от 1 до 7211 метров."
   ]
  },
  {
   "cell_type": "markdown",
   "id": "1eb61889",
   "metadata": {},
   "source": [
    "##### Продолжительность поездок."
   ]
  },
  {
   "cell_type": "code",
   "execution_count": 29,
   "id": "e4f08cb3",
   "metadata": {},
   "outputs": [
    {
     "name": "stdout",
     "output_type": "stream",
     "text": [
      "Название столбца: duration\n"
     ]
    },
    {
     "data": {
      "image/png": "[encoded data removed]",
      "text/plain": [
       "<Figure size 432x288 with 1 Axes>"
      ]
     },
     "metadata": {
      "needs_background": "light"
     },
     "output_type": "display_data"
    },
    {
     "name": "stdout",
     "output_type": "stream",
     "text": [
      "Описание датафрейма:\n",
      "count    18068.0\n",
      "mean        18.0\n",
      "std          6.0\n",
      "min          0.0\n",
      "25%         14.0\n",
      "50%         18.0\n",
      "75%         22.0\n",
      "max         41.0\n",
      "Name: duration, dtype: float64\n"
     ]
    }
   ],
   "source": [
    "quantity(\n",
    "    rides, \n",
    "    'duration', \n",
    "     int((rides['duration'].max()-rides['duration'].min())), \n",
    "    'Продолжительность_ одной_ поездки', \n",
    "    'Количество_ поездок',\n",
    "    'Распределение количества поездок по их продолжительности' \n",
    ")"
   ]
  },
  {
   "cell_type": "markdown",
   "id": "7a601c2c",
   "metadata": {},
   "source": [
    "Пользователи пользуются услугой от 0 до 41 минуты. Наше распределение кривой близко к нормальному. Наблюдается пик в 2-3 минутах. Медиана составляет 18 минут. Наблюдается аномалия размером менее 100 поездок с продолжительностью в 1 минуту. Однако, они не являются выбрасами, т.к. подкреплены данными о поездках со столь же маленькими дистанциями."
   ]
  },
  {
   "cell_type": "code",
   "execution_count": 30,
   "id": "56c30988",
   "metadata": {},
   "outputs": [
    {
     "data": {
      "text/plain": [
       "count     128.000000\n",
       "mean     3848.920522\n",
       "std      2227.759209\n",
       "min        11.283615\n",
       "25%       464.415121\n",
       "50%      4711.849594\n",
       "75%      5323.937502\n",
       "max      7211.007745\n",
       "Name: distance, dtype: float64"
      ]
     },
     "execution_count": 30,
     "metadata": {},
     "output_type": "execute_result"
    }
   ],
   "source": [
    "data = rides.loc[rides['duration'] <= 3]\n",
    "data['distance'].describe()"
   ]
  },
  {
   "cell_type": "markdown",
   "id": "5b3bda8c",
   "metadata": {},
   "source": [
    "### Объединение данных"
   ]
  },
  {
   "cell_type": "markdown",
   "id": "ae98d613",
   "metadata": {},
   "source": [
    "##### Объединение данных о пользователях, поездках и подписках в один датафрейм методом merge()."
   ]
  },
  {
   "cell_type": "code",
   "execution_count": 31,
   "id": "59325c49",
   "metadata": {},
   "outputs": [
    {
     "data": {
      "text/html": [
       "<div>\n",
       "<style scoped>\n",
       "    .dataframe tbody tr th:only-of-type {\n",
       "        vertical-align: middle;\n",
       "    }\n",
       "\n",
       "    .dataframe tbody tr th {\n",
       "        vertical-align: top;\n",
       "    }\n",
       "\n",
       "    .dataframe thead th {\n",
       "        text-align: right;\n",
       "    }\n",
       "</style>\n",
       "<table border=\"1\" class=\"dataframe\">\n",
       "  <thead>\n",
       "    <tr style=\"text-align: right;\">\n",
       "      <th></th>\n",
       "      <th>user_id</th>\n",
       "      <th>name</th>\n",
       "      <th>age</th>\n",
       "      <th>city</th>\n",
       "      <th>subscription_type</th>\n",
       "      <th>distance</th>\n",
       "      <th>duration</th>\n",
       "      <th>date</th>\n",
       "      <th>month_number</th>\n",
       "      <th>minute_price</th>\n",
       "      <th>start_ride_price</th>\n",
       "      <th>subscription_fee</th>\n",
       "    </tr>\n",
       "  </thead>\n",
       "  <tbody>\n",
       "    <tr>\n",
       "      <th>0</th>\n",
       "      <td>1</td>\n",
       "      <td>Кира</td>\n",
       "      <td>22</td>\n",
       "      <td>Тюмень</td>\n",
       "      <td>True</td>\n",
       "      <td>4409.919140</td>\n",
       "      <td>25.599769</td>\n",
       "      <td>2021-01-01</td>\n",
       "      <td>1</td>\n",
       "      <td>6</td>\n",
       "      <td>0</td>\n",
       "      <td>199</td>\n",
       "    </tr>\n",
       "    <tr>\n",
       "      <th>1</th>\n",
       "      <td>1</td>\n",
       "      <td>Кира</td>\n",
       "      <td>22</td>\n",
       "      <td>Тюмень</td>\n",
       "      <td>True</td>\n",
       "      <td>2617.592153</td>\n",
       "      <td>15.816871</td>\n",
       "      <td>2021-01-18</td>\n",
       "      <td>1</td>\n",
       "      <td>6</td>\n",
       "      <td>0</td>\n",
       "      <td>199</td>\n",
       "    </tr>\n",
       "    <tr>\n",
       "      <th>2</th>\n",
       "      <td>1</td>\n",
       "      <td>Кира</td>\n",
       "      <td>22</td>\n",
       "      <td>Тюмень</td>\n",
       "      <td>True</td>\n",
       "      <td>754.159807</td>\n",
       "      <td>6.232113</td>\n",
       "      <td>2021-04-20</td>\n",
       "      <td>4</td>\n",
       "      <td>6</td>\n",
       "      <td>0</td>\n",
       "      <td>199</td>\n",
       "    </tr>\n",
       "    <tr>\n",
       "      <th>3</th>\n",
       "      <td>1</td>\n",
       "      <td>Кира</td>\n",
       "      <td>22</td>\n",
       "      <td>Тюмень</td>\n",
       "      <td>True</td>\n",
       "      <td>2694.783254</td>\n",
       "      <td>18.511000</td>\n",
       "      <td>2021-08-11</td>\n",
       "      <td>8</td>\n",
       "      <td>6</td>\n",
       "      <td>0</td>\n",
       "      <td>199</td>\n",
       "    </tr>\n",
       "    <tr>\n",
       "      <th>4</th>\n",
       "      <td>1</td>\n",
       "      <td>Кира</td>\n",
       "      <td>22</td>\n",
       "      <td>Тюмень</td>\n",
       "      <td>True</td>\n",
       "      <td>4028.687306</td>\n",
       "      <td>26.265803</td>\n",
       "      <td>2021-08-28</td>\n",
       "      <td>8</td>\n",
       "      <td>6</td>\n",
       "      <td>0</td>\n",
       "      <td>199</td>\n",
       "    </tr>\n",
       "    <tr>\n",
       "      <th>5</th>\n",
       "      <td>1</td>\n",
       "      <td>Кира</td>\n",
       "      <td>22</td>\n",
       "      <td>Тюмень</td>\n",
       "      <td>True</td>\n",
       "      <td>2770.890808</td>\n",
       "      <td>16.650138</td>\n",
       "      <td>2021-10-09</td>\n",
       "      <td>10</td>\n",
       "      <td>6</td>\n",
       "      <td>0</td>\n",
       "      <td>199</td>\n",
       "    </tr>\n",
       "    <tr>\n",
       "      <th>6</th>\n",
       "      <td>1</td>\n",
       "      <td>Кира</td>\n",
       "      <td>22</td>\n",
       "      <td>Тюмень</td>\n",
       "      <td>True</td>\n",
       "      <td>3039.020292</td>\n",
       "      <td>14.927879</td>\n",
       "      <td>2021-10-19</td>\n",
       "      <td>10</td>\n",
       "      <td>6</td>\n",
       "      <td>0</td>\n",
       "      <td>199</td>\n",
       "    </tr>\n",
       "    <tr>\n",
       "      <th>7</th>\n",
       "      <td>1</td>\n",
       "      <td>Кира</td>\n",
       "      <td>22</td>\n",
       "      <td>Тюмень</td>\n",
       "      <td>True</td>\n",
       "      <td>2842.118050</td>\n",
       "      <td>23.117468</td>\n",
       "      <td>2021-11-06</td>\n",
       "      <td>11</td>\n",
       "      <td>6</td>\n",
       "      <td>0</td>\n",
       "      <td>199</td>\n",
       "    </tr>\n",
       "    <tr>\n",
       "      <th>8</th>\n",
       "      <td>1</td>\n",
       "      <td>Кира</td>\n",
       "      <td>22</td>\n",
       "      <td>Тюмень</td>\n",
       "      <td>True</td>\n",
       "      <td>3412.690668</td>\n",
       "      <td>15.238072</td>\n",
       "      <td>2021-11-14</td>\n",
       "      <td>11</td>\n",
       "      <td>6</td>\n",
       "      <td>0</td>\n",
       "      <td>199</td>\n",
       "    </tr>\n",
       "    <tr>\n",
       "      <th>9</th>\n",
       "      <td>1</td>\n",
       "      <td>Кира</td>\n",
       "      <td>22</td>\n",
       "      <td>Тюмень</td>\n",
       "      <td>True</td>\n",
       "      <td>748.690645</td>\n",
       "      <td>15.041884</td>\n",
       "      <td>2021-11-22</td>\n",
       "      <td>11</td>\n",
       "      <td>6</td>\n",
       "      <td>0</td>\n",
       "      <td>199</td>\n",
       "    </tr>\n",
       "  </tbody>\n",
       "</table>\n",
       "</div>"
      ],
      "text/plain": [
       "   user_id  name  age    city  subscription_type     distance   duration  \\\n",
       "0        1  Кира   22  Тюмень               True  4409.919140  25.599769   \n",
       "1        1  Кира   22  Тюмень               True  2617.592153  15.816871   \n",
       "2        1  Кира   22  Тюмень               True   754.159807   6.232113   \n",
       "3        1  Кира   22  Тюмень               True  2694.783254  18.511000   \n",
       "4        1  Кира   22  Тюмень               True  4028.687306  26.265803   \n",
       "5        1  Кира   22  Тюмень               True  2770.890808  16.650138   \n",
       "6        1  Кира   22  Тюмень               True  3039.020292  14.927879   \n",
       "7        1  Кира   22  Тюмень               True  2842.118050  23.117468   \n",
       "8        1  Кира   22  Тюмень               True  3412.690668  15.238072   \n",
       "9        1  Кира   22  Тюмень               True   748.690645  15.041884   \n",
       "\n",
       "        date  month_number  minute_price  start_ride_price  subscription_fee  \n",
       "0 2021-01-01             1             6                 0               199  \n",
       "1 2021-01-18             1             6                 0               199  \n",
       "2 2021-04-20             4             6                 0               199  \n",
       "3 2021-08-11             8             6                 0               199  \n",
       "4 2021-08-28             8             6                 0               199  \n",
       "5 2021-10-09            10             6                 0               199  \n",
       "6 2021-10-19            10             6                 0               199  \n",
       "7 2021-11-06            11             6                 0               199  \n",
       "8 2021-11-14            11             6                 0               199  \n",
       "9 2021-11-22            11             6                 0               199  "
      ]
     },
     "execution_count": 31,
     "metadata": {},
     "output_type": "execute_result"
    }
   ],
   "source": [
    "total = users.merge(rides, on='user_id').merge(subscriptions, on='subscription_type')\n",
    "total.head(10)"
   ]
  },
  {
   "cell_type": "code",
   "execution_count": 32,
   "id": "6f8e73d8",
   "metadata": {},
   "outputs": [
    {
     "data": {
      "text/plain": [
       "True"
      ]
     },
     "execution_count": 32,
     "metadata": {},
     "output_type": "execute_result"
    }
   ],
   "source": [
    "total.shape [0] == rides.shape[0]"
   ]
  },
  {
   "cell_type": "code",
   "execution_count": 33,
   "id": "693bdf5c",
   "metadata": {},
   "outputs": [
    {
     "data": {
      "text/plain": [
       "user_id              0\n",
       "name                 0\n",
       "age                  0\n",
       "city                 0\n",
       "subscription_type    0\n",
       "distance             0\n",
       "duration             0\n",
       "date                 0\n",
       "month_number         0\n",
       "minute_price         0\n",
       "start_ride_price     0\n",
       "subscription_fee     0\n",
       "dtype: int64"
      ]
     },
     "execution_count": 33,
     "metadata": {},
     "output_type": "execute_result"
    }
   ],
   "source": [
    "total.isna().sum()"
   ]
  },
  {
   "cell_type": "markdown",
   "id": "d844d7da",
   "metadata": {},
   "source": [
    "##### Создание двух датафрейма c данными о пользователях без подписки и с данными о пользователях с подпиской."
   ]
  },
  {
   "cell_type": "code",
   "execution_count": 34,
   "id": "3ed674e3",
   "metadata": {},
   "outputs": [],
   "source": [
    "ultra = total.loc[total['subscription_type'] == True]\n",
    "free = total.loc[total['subscription_type'] == False]"
   ]
  },
  {
   "cell_type": "markdown",
   "id": "f4d26e98",
   "metadata": {},
   "source": [
    "##### Визуализация информации о расстоянии и времени поездок для пользователей обеих категорий."
   ]
  },
  {
   "cell_type": "code",
   "execution_count": 36,
   "id": "c0c191d2",
   "metadata": {},
   "outputs": [],
   "source": [
    "def quantity_comparison(data1, data2, column, bins_num, xlabel, ylabel, title, dataname1, dataname2):\n",
    "    print('Сравнение столбцов:', column)\n",
    "    \n",
    "    data1.rename(columns = {column:dataname1})[dataname1].plot.hist(\n",
    "        bins=bins_num, \n",
    "        alpha=.5, \n",
    "        legend=True,\n",
    "        grid=True\n",
    "    )\n",
    "    data2.rename(columns = {column:dataname2})[dataname2].plot.hist(\n",
    "        bins=bins_num, \n",
    "        alpha=.5, \n",
    "        legend=True,\n",
    "        grid=True\n",
    "    )\n",
    "    \n",
    "    plt.gca().set(xlabel=f'${xlabel}$', ylabel=f'${ylabel}$')\n",
    "    plt.title(f'{title}')\n",
    "    plt.show()\n",
    "    \n",
    "    print(f\"Описание датафрейма '{dataname1}':\")\n",
    "    print(data1[column].describe().round(0))\n",
    "    \n",
    "    print(f\"\\nОписание датафрейма '{dataname2}':\")\n",
    "    print(data2[column].describe().round(0))"
   ]
  },
  {
   "cell_type": "code",
   "execution_count": 37,
   "id": "cc701c35",
   "metadata": {},
   "outputs": [
    {
     "name": "stdout",
     "output_type": "stream",
     "text": [
      "Сравнение столбцов: distance\n"
     ]
    },
    {
     "data": {
      "image/png": "[encoded data removed]",
      "text/plain": [
       "<Figure size 432x288 with 1 Axes>"
      ]
     },
     "metadata": {
      "needs_background": "light"
     },
     "output_type": "display_data"
    },
    {
     "name": "stdout",
     "output_type": "stream",
     "text": [
      "Описание датафрейма 'ultra':\n",
      "count    6500.0\n",
      "mean     3115.0\n",
      "std       837.0\n",
      "min       244.0\n",
      "25%      2785.0\n",
      "50%      3149.0\n",
      "75%      3561.0\n",
      "max      5700.0\n",
      "Name: distance, dtype: float64\n",
      "\n",
      "Описание датафрейма 'free':\n",
      "count    11568.0\n",
      "mean      3045.0\n",
      "std       1246.0\n",
      "min          1.0\n",
      "25%       2367.0\n",
      "50%       3115.0\n",
      "75%       3906.0\n",
      "max       7211.0\n",
      "Name: distance, dtype: float64\n"
     ]
    }
   ],
   "source": [
    "# Срвнение столбцов 'distance' в 'ultra' и 'free'\n",
    "quantity_comparison(\n",
    "    ultra, \n",
    "    free, \n",
    "    'distance', \n",
    "    int(free['distance'].max()/100), \n",
    "    'Расстояние', \n",
    "    'Количество_ использований_ сервиса', \n",
    "    'Количество использований сервиса в зависимости от расстояния поездки', \n",
    "    'ultra', \n",
    "    'free'\n",
    ")"
   ]
  },
  {
   "cell_type": "markdown",
   "id": "62499127",
   "metadata": {},
   "source": [
    "Дистанции пользователей free более разнообразны: минимальное значение на 243 меньше, чем по подписке ultra; маскимальное значение больше на 1511. Об этом же свидетельствует и стандартное отклонение, которое при использовании подписки free больше на 409 метров, чем при использовании подписки ultra.\n",
    "\n",
    "Наблюдается два пика. Если рассматривать по подписке free, то они приходятся на значения 900 и 3200. По подписке ultra: 500 и 2500-3500 метров. "
   ]
  },
  {
   "cell_type": "code",
   "execution_count": 38,
   "id": "95c067d9",
   "metadata": {},
   "outputs": [
    {
     "name": "stdout",
     "output_type": "stream",
     "text": [
      "Сравнение столбцов: duration\n"
     ]
    },
    {
     "data": {
      "image/png": "[encoded data removed]",
      "text/plain": [
       "<Figure size 432x288 with 1 Axes>"
      ]
     },
     "metadata": {
      "needs_background": "light"
     },
     "output_type": "display_data"
    },
    {
     "name": "stdout",
     "output_type": "stream",
     "text": [
      "Описание датафрейма 'ultra':\n",
      "count    6500.0\n",
      "mean       19.0\n",
      "std         6.0\n",
      "min         4.0\n",
      "25%        15.0\n",
      "50%        18.0\n",
      "75%        22.0\n",
      "max        41.0\n",
      "Name: duration, dtype: float64\n",
      "\n",
      "Описание датафрейма 'free':\n",
      "count    11568.0\n",
      "mean        17.0\n",
      "std          6.0\n",
      "min          0.0\n",
      "25%         13.0\n",
      "50%         17.0\n",
      "75%         22.0\n",
      "max         35.0\n",
      "Name: duration, dtype: float64\n"
     ]
    }
   ],
   "source": [
    "# Срвнение столбцов 'duration' в 'ultra' и 'free'\n",
    "quantity_comparison(\n",
    "    ultra, \n",
    "    free, \n",
    "    'duration', \n",
    "    int(free['duration'].max()), \n",
    "    'Продоложительность', \n",
    "    'Количество_ использований_ сервиса', \n",
    "    'Количество использований сервиса в зависимости от продолжительности поездки', \n",
    "    'ultra', \n",
    "    'free'\n",
    ")"
   ]
  },
  {
   "cell_type": "markdown",
   "id": "6f2a2f34",
   "metadata": {},
   "source": [
    "Кривые графиков имеют нормальное распределение. Пользователей с подпиской free больше, почти в два раза. Среднее значение отличается на две единицы, стандартное отклонение одинаково. Минимальное значение у free меньше, чем в ultra, на 4 единицы, максимальное значение тоже меньше на 6 единиц. Пик количества поездок приходится на 17-18 минут."
   ]
  },
  {
   "cell_type": "markdown",
   "id": "a3837285",
   "metadata": {},
   "source": [
    "### Подсчёт выручки"
   ]
  },
  {
   "cell_type": "markdown",
   "id": "9195b2c9",
   "metadata": {},
   "source": [
    "Создание датафрейма с агрегированными данными о поездках на основе датафрейма с объединёнными данными из шага 4: нахождение суммарного расстояния, количества поездок и суммарного времени для каждого пользователя за каждый месяц."
   ]
  },
  {
   "cell_type": "code",
   "execution_count": 39,
   "id": "a867aa99",
   "metadata": {},
   "outputs": [],
   "source": [
    "# Округление продолжительности поездок в 'duration'\n",
    "total['duration'] = np.ceil(total['duration'])"
   ]
  },
  {
   "cell_type": "code",
   "execution_count": 40,
   "id": "40c0234a",
   "metadata": {},
   "outputs": [
    {
     "data": {
      "text/html": [
       "<div>\n",
       "<style scoped>\n",
       "    .dataframe tbody tr th:only-of-type {\n",
       "        vertical-align: middle;\n",
       "    }\n",
       "\n",
       "    .dataframe tbody tr th {\n",
       "        vertical-align: top;\n",
       "    }\n",
       "\n",
       "    .dataframe thead tr th {\n",
       "        text-align: left;\n",
       "    }\n",
       "\n",
       "    .dataframe thead tr:last-of-type th {\n",
       "        text-align: right;\n",
       "    }\n",
       "</style>\n",
       "<table border=\"1\" class=\"dataframe\">\n",
       "  <thead>\n",
       "    <tr>\n",
       "      <th></th>\n",
       "      <th></th>\n",
       "      <th colspan=\"2\" halign=\"left\">distance</th>\n",
       "      <th colspan=\"2\" halign=\"left\">duration</th>\n",
       "      <th colspan=\"2\" halign=\"left\">minute_price</th>\n",
       "      <th colspan=\"2\" halign=\"left\">start_ride_price</th>\n",
       "      <th colspan=\"2\" halign=\"left\">subscription_fee</th>\n",
       "      <th colspan=\"2\" halign=\"left\">subscription_type</th>\n",
       "    </tr>\n",
       "    <tr>\n",
       "      <th></th>\n",
       "      <th></th>\n",
       "      <th>count</th>\n",
       "      <th>sum</th>\n",
       "      <th>count</th>\n",
       "      <th>sum</th>\n",
       "      <th>count</th>\n",
       "      <th>sum</th>\n",
       "      <th>count</th>\n",
       "      <th>sum</th>\n",
       "      <th>count</th>\n",
       "      <th>sum</th>\n",
       "      <th>count</th>\n",
       "      <th>sum</th>\n",
       "    </tr>\n",
       "    <tr>\n",
       "      <th>user_id</th>\n",
       "      <th>month_number</th>\n",
       "      <th></th>\n",
       "      <th></th>\n",
       "      <th></th>\n",
       "      <th></th>\n",
       "      <th></th>\n",
       "      <th></th>\n",
       "      <th></th>\n",
       "      <th></th>\n",
       "      <th></th>\n",
       "      <th></th>\n",
       "      <th></th>\n",
       "      <th></th>\n",
       "    </tr>\n",
       "  </thead>\n",
       "  <tbody>\n",
       "    <tr>\n",
       "      <th rowspan=\"5\" valign=\"top\">1</th>\n",
       "      <th>1</th>\n",
       "      <td>2</td>\n",
       "      <td>7027.511294</td>\n",
       "      <td>2</td>\n",
       "      <td>42.0</td>\n",
       "      <td>2</td>\n",
       "      <td>12</td>\n",
       "      <td>2</td>\n",
       "      <td>0.0</td>\n",
       "      <td>2</td>\n",
       "      <td>398.0</td>\n",
       "      <td>2</td>\n",
       "      <td>2</td>\n",
       "    </tr>\n",
       "    <tr>\n",
       "      <th>4</th>\n",
       "      <td>1</td>\n",
       "      <td>754.159807</td>\n",
       "      <td>1</td>\n",
       "      <td>7.0</td>\n",
       "      <td>1</td>\n",
       "      <td>6</td>\n",
       "      <td>1</td>\n",
       "      <td>0.0</td>\n",
       "      <td>1</td>\n",
       "      <td>199.0</td>\n",
       "      <td>1</td>\n",
       "      <td>1</td>\n",
       "    </tr>\n",
       "    <tr>\n",
       "      <th>8</th>\n",
       "      <td>2</td>\n",
       "      <td>6723.470560</td>\n",
       "      <td>2</td>\n",
       "      <td>46.0</td>\n",
       "      <td>2</td>\n",
       "      <td>12</td>\n",
       "      <td>2</td>\n",
       "      <td>0.0</td>\n",
       "      <td>2</td>\n",
       "      <td>398.0</td>\n",
       "      <td>2</td>\n",
       "      <td>2</td>\n",
       "    </tr>\n",
       "    <tr>\n",
       "      <th>10</th>\n",
       "      <td>2</td>\n",
       "      <td>5809.911100</td>\n",
       "      <td>2</td>\n",
       "      <td>32.0</td>\n",
       "      <td>2</td>\n",
       "      <td>12</td>\n",
       "      <td>2</td>\n",
       "      <td>0.0</td>\n",
       "      <td>2</td>\n",
       "      <td>398.0</td>\n",
       "      <td>2</td>\n",
       "      <td>2</td>\n",
       "    </tr>\n",
       "    <tr>\n",
       "      <th>11</th>\n",
       "      <td>3</td>\n",
       "      <td>7003.499363</td>\n",
       "      <td>3</td>\n",
       "      <td>56.0</td>\n",
       "      <td>3</td>\n",
       "      <td>18</td>\n",
       "      <td>3</td>\n",
       "      <td>0.0</td>\n",
       "      <td>3</td>\n",
       "      <td>597.0</td>\n",
       "      <td>3</td>\n",
       "      <td>3</td>\n",
       "    </tr>\n",
       "    <tr>\n",
       "      <th>...</th>\n",
       "      <th>...</th>\n",
       "      <td>...</td>\n",
       "      <td>...</td>\n",
       "      <td>...</td>\n",
       "      <td>...</td>\n",
       "      <td>...</td>\n",
       "      <td>...</td>\n",
       "      <td>...</td>\n",
       "      <td>...</td>\n",
       "      <td>...</td>\n",
       "      <td>...</td>\n",
       "      <td>...</td>\n",
       "      <td>...</td>\n",
       "    </tr>\n",
       "    <tr>\n",
       "      <th rowspan=\"5\" valign=\"top\">1534</th>\n",
       "      <th>6</th>\n",
       "      <td>2</td>\n",
       "      <td>3409.468534</td>\n",
       "      <td>2</td>\n",
       "      <td>26.0</td>\n",
       "      <td>2</td>\n",
       "      <td>16</td>\n",
       "      <td>2</td>\n",
       "      <td>100.0</td>\n",
       "      <td>2</td>\n",
       "      <td>0.0</td>\n",
       "      <td>2</td>\n",
       "      <td>0</td>\n",
       "    </tr>\n",
       "    <tr>\n",
       "      <th>8</th>\n",
       "      <td>2</td>\n",
       "      <td>7622.453034</td>\n",
       "      <td>2</td>\n",
       "      <td>48.0</td>\n",
       "      <td>2</td>\n",
       "      <td>16</td>\n",
       "      <td>2</td>\n",
       "      <td>100.0</td>\n",
       "      <td>2</td>\n",
       "      <td>0.0</td>\n",
       "      <td>2</td>\n",
       "      <td>0</td>\n",
       "    </tr>\n",
       "    <tr>\n",
       "      <th>9</th>\n",
       "      <td>1</td>\n",
       "      <td>4928.173852</td>\n",
       "      <td>1</td>\n",
       "      <td>23.0</td>\n",
       "      <td>1</td>\n",
       "      <td>8</td>\n",
       "      <td>1</td>\n",
       "      <td>50.0</td>\n",
       "      <td>1</td>\n",
       "      <td>0.0</td>\n",
       "      <td>1</td>\n",
       "      <td>0</td>\n",
       "    </tr>\n",
       "    <tr>\n",
       "      <th>11</th>\n",
       "      <td>4</td>\n",
       "      <td>13350.015305</td>\n",
       "      <td>4</td>\n",
       "      <td>78.0</td>\n",
       "      <td>4</td>\n",
       "      <td>32</td>\n",
       "      <td>4</td>\n",
       "      <td>200.0</td>\n",
       "      <td>4</td>\n",
       "      <td>0.0</td>\n",
       "      <td>4</td>\n",
       "      <td>0</td>\n",
       "    </tr>\n",
       "    <tr>\n",
       "      <th>12</th>\n",
       "      <td>1</td>\n",
       "      <td>2371.711192</td>\n",
       "      <td>1</td>\n",
       "      <td>16.0</td>\n",
       "      <td>1</td>\n",
       "      <td>8</td>\n",
       "      <td>1</td>\n",
       "      <td>50.0</td>\n",
       "      <td>1</td>\n",
       "      <td>0.0</td>\n",
       "      <td>1</td>\n",
       "      <td>0</td>\n",
       "    </tr>\n",
       "  </tbody>\n",
       "</table>\n",
       "<p>11331 rows × 12 columns</p>\n",
       "</div>"
      ],
      "text/plain": [
       "                     distance               duration       minute_price      \\\n",
       "                        count           sum    count   sum        count sum   \n",
       "user_id month_number                                                          \n",
       "1       1                   2   7027.511294        2  42.0            2  12   \n",
       "        4                   1    754.159807        1   7.0            1   6   \n",
       "        8                   2   6723.470560        2  46.0            2  12   \n",
       "        10                  2   5809.911100        2  32.0            2  12   \n",
       "        11                  3   7003.499363        3  56.0            3  18   \n",
       "...                       ...           ...      ...   ...          ...  ..   \n",
       "1534    6                   2   3409.468534        2  26.0            2  16   \n",
       "        8                   2   7622.453034        2  48.0            2  16   \n",
       "        9                   1   4928.173852        1  23.0            1   8   \n",
       "        11                  4  13350.015305        4  78.0            4  32   \n",
       "        12                  1   2371.711192        1  16.0            1   8   \n",
       "\n",
       "                     start_ride_price        subscription_fee         \\\n",
       "                                count    sum            count    sum   \n",
       "user_id month_number                                                   \n",
       "1       1                           2    0.0                2  398.0   \n",
       "        4                           1    0.0                1  199.0   \n",
       "        8                           2    0.0                2  398.0   \n",
       "        10                          2    0.0                2  398.0   \n",
       "        11                          3    0.0                3  597.0   \n",
       "...                               ...    ...              ...    ...   \n",
       "1534    6                           2  100.0                2    0.0   \n",
       "        8                           2  100.0                2    0.0   \n",
       "        9                           1   50.0                1    0.0   \n",
       "        11                          4  200.0                4    0.0   \n",
       "        12                          1   50.0                1    0.0   \n",
       "\n",
       "                     subscription_type      \n",
       "                                 count sum  \n",
       "user_id month_number                        \n",
       "1       1                            2   2  \n",
       "        4                            1   1  \n",
       "        8                            2   2  \n",
       "        10                           2   2  \n",
       "        11                           3   3  \n",
       "...                                ...  ..  \n",
       "1534    6                            2   0  \n",
       "        8                            2   0  \n",
       "        9                            1   0  \n",
       "        11                           4   0  \n",
       "        12                           1   0  \n",
       "\n",
       "[11331 rows x 12 columns]"
      ]
     },
     "execution_count": 40,
     "metadata": {},
     "output_type": "execute_result"
    }
   ],
   "source": [
    "# Создание сводной таблицы\n",
    "users_months = total.pivot_table(\n",
    "    index=('user_id', 'month_number'), \n",
    "    values=(\n",
    "        'distance', \n",
    "        'duration', \n",
    "        'minute_price', \n",
    "        'start_ride_price', \n",
    "        'subscription_fee',\n",
    "        'subscription_type'\n",
    "    ), \n",
    "    aggfunc=('count', 'sum'))\n",
    "\n",
    "users_months"
   ]
  },
  {
   "cell_type": "code",
   "execution_count": 41,
   "id": "fdacd033",
   "metadata": {},
   "outputs": [],
   "source": [
    "# Переименование \"двухэтажных\" названий столбцов\n",
    "users_months.columns = [\n",
    "    'count', 'distance', \n",
    "    'count2', 'duration', \n",
    "    'count3', 'minute_price',\n",
    "    'count4', 'start_ride_price', \n",
    "    'count5', 'subscription_fee',\n",
    "    'count6', 'subscription_type'\n",
    "]"
   ]
  },
  {
   "cell_type": "code",
   "execution_count": 43,
   "id": "a61c0768",
   "metadata": {},
   "outputs": [
    {
     "data": {
      "text/html": [
       "<div>\n",
       "<style scoped>\n",
       "    .dataframe tbody tr th:only-of-type {\n",
       "        vertical-align: middle;\n",
       "    }\n",
       "\n",
       "    .dataframe tbody tr th {\n",
       "        vertical-align: top;\n",
       "    }\n",
       "\n",
       "    .dataframe thead th {\n",
       "        text-align: right;\n",
       "    }\n",
       "</style>\n",
       "<table border=\"1\" class=\"dataframe\">\n",
       "  <thead>\n",
       "    <tr style=\"text-align: right;\">\n",
       "      <th></th>\n",
       "      <th></th>\n",
       "      <th>count</th>\n",
       "      <th>distance</th>\n",
       "      <th>count2</th>\n",
       "      <th>duration</th>\n",
       "      <th>count3</th>\n",
       "      <th>minute_price</th>\n",
       "      <th>count4</th>\n",
       "      <th>start_ride_price</th>\n",
       "      <th>count5</th>\n",
       "      <th>subscription_fee</th>\n",
       "      <th>count6</th>\n",
       "      <th>subscription_type</th>\n",
       "    </tr>\n",
       "    <tr>\n",
       "      <th>user_id</th>\n",
       "      <th>month_number</th>\n",
       "      <th></th>\n",
       "      <th></th>\n",
       "      <th></th>\n",
       "      <th></th>\n",
       "      <th></th>\n",
       "      <th></th>\n",
       "      <th></th>\n",
       "      <th></th>\n",
       "      <th></th>\n",
       "      <th></th>\n",
       "      <th></th>\n",
       "      <th></th>\n",
       "    </tr>\n",
       "  </thead>\n",
       "  <tbody>\n",
       "    <tr>\n",
       "      <th rowspan=\"6\" valign=\"top\">1</th>\n",
       "      <th>1</th>\n",
       "      <td>2</td>\n",
       "      <td>7027.511294</td>\n",
       "      <td>2</td>\n",
       "      <td>42.0</td>\n",
       "      <td>2</td>\n",
       "      <td>12</td>\n",
       "      <td>2</td>\n",
       "      <td>0.0</td>\n",
       "      <td>2</td>\n",
       "      <td>398.0</td>\n",
       "      <td>2</td>\n",
       "      <td>2</td>\n",
       "    </tr>\n",
       "    <tr>\n",
       "      <th>4</th>\n",
       "      <td>1</td>\n",
       "      <td>754.159807</td>\n",
       "      <td>1</td>\n",
       "      <td>7.0</td>\n",
       "      <td>1</td>\n",
       "      <td>6</td>\n",
       "      <td>1</td>\n",
       "      <td>0.0</td>\n",
       "      <td>1</td>\n",
       "      <td>199.0</td>\n",
       "      <td>1</td>\n",
       "      <td>1</td>\n",
       "    </tr>\n",
       "    <tr>\n",
       "      <th>8</th>\n",
       "      <td>2</td>\n",
       "      <td>6723.470560</td>\n",
       "      <td>2</td>\n",
       "      <td>46.0</td>\n",
       "      <td>2</td>\n",
       "      <td>12</td>\n",
       "      <td>2</td>\n",
       "      <td>0.0</td>\n",
       "      <td>2</td>\n",
       "      <td>398.0</td>\n",
       "      <td>2</td>\n",
       "      <td>2</td>\n",
       "    </tr>\n",
       "    <tr>\n",
       "      <th>10</th>\n",
       "      <td>2</td>\n",
       "      <td>5809.911100</td>\n",
       "      <td>2</td>\n",
       "      <td>32.0</td>\n",
       "      <td>2</td>\n",
       "      <td>12</td>\n",
       "      <td>2</td>\n",
       "      <td>0.0</td>\n",
       "      <td>2</td>\n",
       "      <td>398.0</td>\n",
       "      <td>2</td>\n",
       "      <td>2</td>\n",
       "    </tr>\n",
       "    <tr>\n",
       "      <th>11</th>\n",
       "      <td>3</td>\n",
       "      <td>7003.499363</td>\n",
       "      <td>3</td>\n",
       "      <td>56.0</td>\n",
       "      <td>3</td>\n",
       "      <td>18</td>\n",
       "      <td>3</td>\n",
       "      <td>0.0</td>\n",
       "      <td>3</td>\n",
       "      <td>597.0</td>\n",
       "      <td>3</td>\n",
       "      <td>3</td>\n",
       "    </tr>\n",
       "    <tr>\n",
       "      <th>12</th>\n",
       "      <td>2</td>\n",
       "      <td>6751.629942</td>\n",
       "      <td>2</td>\n",
       "      <td>28.0</td>\n",
       "      <td>2</td>\n",
       "      <td>12</td>\n",
       "      <td>2</td>\n",
       "      <td>0.0</td>\n",
       "      <td>2</td>\n",
       "      <td>398.0</td>\n",
       "      <td>2</td>\n",
       "      <td>2</td>\n",
       "    </tr>\n",
       "    <tr>\n",
       "      <th rowspan=\"4\" valign=\"top\">2</th>\n",
       "      <th>3</th>\n",
       "      <td>3</td>\n",
       "      <td>10187.723006</td>\n",
       "      <td>3</td>\n",
       "      <td>63.0</td>\n",
       "      <td>3</td>\n",
       "      <td>18</td>\n",
       "      <td>3</td>\n",
       "      <td>0.0</td>\n",
       "      <td>3</td>\n",
       "      <td>597.0</td>\n",
       "      <td>3</td>\n",
       "      <td>3</td>\n",
       "    </tr>\n",
       "    <tr>\n",
       "      <th>4</th>\n",
       "      <td>2</td>\n",
       "      <td>6164.381824</td>\n",
       "      <td>2</td>\n",
       "      <td>40.0</td>\n",
       "      <td>2</td>\n",
       "      <td>12</td>\n",
       "      <td>2</td>\n",
       "      <td>0.0</td>\n",
       "      <td>2</td>\n",
       "      <td>398.0</td>\n",
       "      <td>2</td>\n",
       "      <td>2</td>\n",
       "    </tr>\n",
       "    <tr>\n",
       "      <th>6</th>\n",
       "      <td>1</td>\n",
       "      <td>3255.338202</td>\n",
       "      <td>1</td>\n",
       "      <td>14.0</td>\n",
       "      <td>1</td>\n",
       "      <td>6</td>\n",
       "      <td>1</td>\n",
       "      <td>0.0</td>\n",
       "      <td>1</td>\n",
       "      <td>199.0</td>\n",
       "      <td>1</td>\n",
       "      <td>1</td>\n",
       "    </tr>\n",
       "    <tr>\n",
       "      <th>7</th>\n",
       "      <td>2</td>\n",
       "      <td>6780.722964</td>\n",
       "      <td>2</td>\n",
       "      <td>48.0</td>\n",
       "      <td>2</td>\n",
       "      <td>12</td>\n",
       "      <td>2</td>\n",
       "      <td>0.0</td>\n",
       "      <td>2</td>\n",
       "      <td>398.0</td>\n",
       "      <td>2</td>\n",
       "      <td>2</td>\n",
       "    </tr>\n",
       "  </tbody>\n",
       "</table>\n",
       "</div>"
      ],
      "text/plain": [
       "                      count      distance  count2  duration  count3  \\\n",
       "user_id month_number                                                  \n",
       "1       1                 2   7027.511294       2      42.0       2   \n",
       "        4                 1    754.159807       1       7.0       1   \n",
       "        8                 2   6723.470560       2      46.0       2   \n",
       "        10                2   5809.911100       2      32.0       2   \n",
       "        11                3   7003.499363       3      56.0       3   \n",
       "        12                2   6751.629942       2      28.0       2   \n",
       "2       3                 3  10187.723006       3      63.0       3   \n",
       "        4                 2   6164.381824       2      40.0       2   \n",
       "        6                 1   3255.338202       1      14.0       1   \n",
       "        7                 2   6780.722964       2      48.0       2   \n",
       "\n",
       "                      minute_price  count4  start_ride_price  count5  \\\n",
       "user_id month_number                                                   \n",
       "1       1                       12       2               0.0       2   \n",
       "        4                        6       1               0.0       1   \n",
       "        8                       12       2               0.0       2   \n",
       "        10                      12       2               0.0       2   \n",
       "        11                      18       3               0.0       3   \n",
       "        12                      12       2               0.0       2   \n",
       "2       3                       18       3               0.0       3   \n",
       "        4                       12       2               0.0       2   \n",
       "        6                        6       1               0.0       1   \n",
       "        7                       12       2               0.0       2   \n",
       "\n",
       "                      subscription_fee  count6  subscription_type  \n",
       "user_id month_number                                               \n",
       "1       1                        398.0       2                  2  \n",
       "        4                        199.0       1                  1  \n",
       "        8                        398.0       2                  2  \n",
       "        10                       398.0       2                  2  \n",
       "        11                       597.0       3                  3  \n",
       "        12                       398.0       2                  2  \n",
       "2       3                        597.0       3                  3  \n",
       "        4                        398.0       2                  2  \n",
       "        6                        199.0       1                  1  \n",
       "        7                        398.0       2                  2  "
      ]
     },
     "execution_count": 43,
     "metadata": {},
     "output_type": "execute_result"
    }
   ],
   "source": [
    "users_months.head(10)"
   ]
  },
  {
   "cell_type": "code",
   "execution_count": 44,
   "id": "d1fa6ee9",
   "metadata": {},
   "outputs": [
    {
     "data": {
      "text/html": [
       "<div>\n",
       "<style scoped>\n",
       "    .dataframe tbody tr th:only-of-type {\n",
       "        vertical-align: middle;\n",
       "    }\n",
       "\n",
       "    .dataframe tbody tr th {\n",
       "        vertical-align: top;\n",
       "    }\n",
       "\n",
       "    .dataframe thead th {\n",
       "        text-align: right;\n",
       "    }\n",
       "</style>\n",
       "<table border=\"1\" class=\"dataframe\">\n",
       "  <thead>\n",
       "    <tr style=\"text-align: right;\">\n",
       "      <th></th>\n",
       "      <th></th>\n",
       "      <th>count</th>\n",
       "      <th>distance</th>\n",
       "      <th>duration</th>\n",
       "      <th>minute_price</th>\n",
       "      <th>start_ride_price</th>\n",
       "      <th>subscription_fee</th>\n",
       "      <th>subscription_type</th>\n",
       "    </tr>\n",
       "    <tr>\n",
       "      <th>user_id</th>\n",
       "      <th>month_number</th>\n",
       "      <th></th>\n",
       "      <th></th>\n",
       "      <th></th>\n",
       "      <th></th>\n",
       "      <th></th>\n",
       "      <th></th>\n",
       "      <th></th>\n",
       "    </tr>\n",
       "  </thead>\n",
       "  <tbody>\n",
       "    <tr>\n",
       "      <th rowspan=\"6\" valign=\"top\">1</th>\n",
       "      <th>1</th>\n",
       "      <td>2</td>\n",
       "      <td>7027.511294</td>\n",
       "      <td>42.0</td>\n",
       "      <td>6.0</td>\n",
       "      <td>0.0</td>\n",
       "      <td>199.0</td>\n",
       "      <td>1.0</td>\n",
       "    </tr>\n",
       "    <tr>\n",
       "      <th>4</th>\n",
       "      <td>1</td>\n",
       "      <td>754.159807</td>\n",
       "      <td>7.0</td>\n",
       "      <td>6.0</td>\n",
       "      <td>0.0</td>\n",
       "      <td>199.0</td>\n",
       "      <td>1.0</td>\n",
       "    </tr>\n",
       "    <tr>\n",
       "      <th>8</th>\n",
       "      <td>2</td>\n",
       "      <td>6723.470560</td>\n",
       "      <td>46.0</td>\n",
       "      <td>6.0</td>\n",
       "      <td>0.0</td>\n",
       "      <td>199.0</td>\n",
       "      <td>1.0</td>\n",
       "    </tr>\n",
       "    <tr>\n",
       "      <th>10</th>\n",
       "      <td>2</td>\n",
       "      <td>5809.911100</td>\n",
       "      <td>32.0</td>\n",
       "      <td>6.0</td>\n",
       "      <td>0.0</td>\n",
       "      <td>199.0</td>\n",
       "      <td>1.0</td>\n",
       "    </tr>\n",
       "    <tr>\n",
       "      <th>11</th>\n",
       "      <td>3</td>\n",
       "      <td>7003.499363</td>\n",
       "      <td>56.0</td>\n",
       "      <td>6.0</td>\n",
       "      <td>0.0</td>\n",
       "      <td>199.0</td>\n",
       "      <td>1.0</td>\n",
       "    </tr>\n",
       "    <tr>\n",
       "      <th>12</th>\n",
       "      <td>2</td>\n",
       "      <td>6751.629942</td>\n",
       "      <td>28.0</td>\n",
       "      <td>6.0</td>\n",
       "      <td>0.0</td>\n",
       "      <td>199.0</td>\n",
       "      <td>1.0</td>\n",
       "    </tr>\n",
       "    <tr>\n",
       "      <th rowspan=\"4\" valign=\"top\">2</th>\n",
       "      <th>3</th>\n",
       "      <td>3</td>\n",
       "      <td>10187.723006</td>\n",
       "      <td>63.0</td>\n",
       "      <td>6.0</td>\n",
       "      <td>0.0</td>\n",
       "      <td>199.0</td>\n",
       "      <td>1.0</td>\n",
       "    </tr>\n",
       "    <tr>\n",
       "      <th>4</th>\n",
       "      <td>2</td>\n",
       "      <td>6164.381824</td>\n",
       "      <td>40.0</td>\n",
       "      <td>6.0</td>\n",
       "      <td>0.0</td>\n",
       "      <td>199.0</td>\n",
       "      <td>1.0</td>\n",
       "    </tr>\n",
       "    <tr>\n",
       "      <th>6</th>\n",
       "      <td>1</td>\n",
       "      <td>3255.338202</td>\n",
       "      <td>14.0</td>\n",
       "      <td>6.0</td>\n",
       "      <td>0.0</td>\n",
       "      <td>199.0</td>\n",
       "      <td>1.0</td>\n",
       "    </tr>\n",
       "    <tr>\n",
       "      <th>7</th>\n",
       "      <td>2</td>\n",
       "      <td>6780.722964</td>\n",
       "      <td>48.0</td>\n",
       "      <td>6.0</td>\n",
       "      <td>0.0</td>\n",
       "      <td>199.0</td>\n",
       "      <td>1.0</td>\n",
       "    </tr>\n",
       "  </tbody>\n",
       "</table>\n",
       "</div>"
      ],
      "text/plain": [
       "                      count      distance  duration  minute_price  \\\n",
       "user_id month_number                                                \n",
       "1       1                 2   7027.511294      42.0           6.0   \n",
       "        4                 1    754.159807       7.0           6.0   \n",
       "        8                 2   6723.470560      46.0           6.0   \n",
       "        10                2   5809.911100      32.0           6.0   \n",
       "        11                3   7003.499363      56.0           6.0   \n",
       "        12                2   6751.629942      28.0           6.0   \n",
       "2       3                 3  10187.723006      63.0           6.0   \n",
       "        4                 2   6164.381824      40.0           6.0   \n",
       "        6                 1   3255.338202      14.0           6.0   \n",
       "        7                 2   6780.722964      48.0           6.0   \n",
       "\n",
       "                      start_ride_price  subscription_fee  subscription_type  \n",
       "user_id month_number                                                         \n",
       "1       1                          0.0             199.0                1.0  \n",
       "        4                          0.0             199.0                1.0  \n",
       "        8                          0.0             199.0                1.0  \n",
       "        10                         0.0             199.0                1.0  \n",
       "        11                         0.0             199.0                1.0  \n",
       "        12                         0.0             199.0                1.0  \n",
       "2       3                          0.0             199.0                1.0  \n",
       "        4                          0.0             199.0                1.0  \n",
       "        6                          0.0             199.0                1.0  \n",
       "        7                          0.0             199.0                1.0  "
      ]
     },
     "execution_count": 44,
     "metadata": {},
     "output_type": "execute_result"
    }
   ],
   "source": [
    "users_months = users_months.drop(['count2', 'count3', 'count4', 'count5', 'count6'], axis=1)\n",
    "# Приведение столбцов с ценами к целевому состоянию\n",
    "users_months['start_ride_price'] = users_months['start_ride_price'] / users_months['count']\n",
    "users_months['minute_price'] = users_months['minute_price'] / users_months['count']\n",
    "users_months['subscription_fee'] = users_months['subscription_fee'] / users_months['count']\n",
    "users_months['subscription_type'] = users_months['subscription_type'] / users_months['count']\n",
    "users_months.head(10)"
   ]
  },
  {
   "cell_type": "code",
   "execution_count": 45,
   "id": "742630c0",
   "metadata": {},
   "outputs": [
    {
     "data": {
      "text/html": [
       "<div>\n",
       "<style scoped>\n",
       "    .dataframe tbody tr th:only-of-type {\n",
       "        vertical-align: middle;\n",
       "    }\n",
       "\n",
       "    .dataframe tbody tr th {\n",
       "        vertical-align: top;\n",
       "    }\n",
       "\n",
       "    .dataframe thead th {\n",
       "        text-align: right;\n",
       "    }\n",
       "</style>\n",
       "<table border=\"1\" class=\"dataframe\">\n",
       "  <thead>\n",
       "    <tr style=\"text-align: right;\">\n",
       "      <th></th>\n",
       "      <th></th>\n",
       "      <th>count</th>\n",
       "      <th>distance</th>\n",
       "      <th>duration</th>\n",
       "      <th>minute_price</th>\n",
       "      <th>start_ride_price</th>\n",
       "      <th>subscription_fee</th>\n",
       "      <th>subscription_type</th>\n",
       "    </tr>\n",
       "    <tr>\n",
       "      <th>user_id</th>\n",
       "      <th>month_number</th>\n",
       "      <th></th>\n",
       "      <th></th>\n",
       "      <th></th>\n",
       "      <th></th>\n",
       "      <th></th>\n",
       "      <th></th>\n",
       "      <th></th>\n",
       "    </tr>\n",
       "  </thead>\n",
       "  <tbody>\n",
       "    <tr>\n",
       "      <th rowspan=\"6\" valign=\"top\">1</th>\n",
       "      <th>1</th>\n",
       "      <td>2</td>\n",
       "      <td>7027.511294</td>\n",
       "      <td>42.0</td>\n",
       "      <td>6.0</td>\n",
       "      <td>0.0</td>\n",
       "      <td>199.0</td>\n",
       "      <td>ultra</td>\n",
       "    </tr>\n",
       "    <tr>\n",
       "      <th>4</th>\n",
       "      <td>1</td>\n",
       "      <td>754.159807</td>\n",
       "      <td>7.0</td>\n",
       "      <td>6.0</td>\n",
       "      <td>0.0</td>\n",
       "      <td>199.0</td>\n",
       "      <td>ultra</td>\n",
       "    </tr>\n",
       "    <tr>\n",
       "      <th>8</th>\n",
       "      <td>2</td>\n",
       "      <td>6723.470560</td>\n",
       "      <td>46.0</td>\n",
       "      <td>6.0</td>\n",
       "      <td>0.0</td>\n",
       "      <td>199.0</td>\n",
       "      <td>ultra</td>\n",
       "    </tr>\n",
       "    <tr>\n",
       "      <th>10</th>\n",
       "      <td>2</td>\n",
       "      <td>5809.911100</td>\n",
       "      <td>32.0</td>\n",
       "      <td>6.0</td>\n",
       "      <td>0.0</td>\n",
       "      <td>199.0</td>\n",
       "      <td>ultra</td>\n",
       "    </tr>\n",
       "    <tr>\n",
       "      <th>11</th>\n",
       "      <td>3</td>\n",
       "      <td>7003.499363</td>\n",
       "      <td>56.0</td>\n",
       "      <td>6.0</td>\n",
       "      <td>0.0</td>\n",
       "      <td>199.0</td>\n",
       "      <td>ultra</td>\n",
       "    </tr>\n",
       "    <tr>\n",
       "      <th>12</th>\n",
       "      <td>2</td>\n",
       "      <td>6751.629942</td>\n",
       "      <td>28.0</td>\n",
       "      <td>6.0</td>\n",
       "      <td>0.0</td>\n",
       "      <td>199.0</td>\n",
       "      <td>ultra</td>\n",
       "    </tr>\n",
       "    <tr>\n",
       "      <th rowspan=\"4\" valign=\"top\">2</th>\n",
       "      <th>3</th>\n",
       "      <td>3</td>\n",
       "      <td>10187.723006</td>\n",
       "      <td>63.0</td>\n",
       "      <td>6.0</td>\n",
       "      <td>0.0</td>\n",
       "      <td>199.0</td>\n",
       "      <td>ultra</td>\n",
       "    </tr>\n",
       "    <tr>\n",
       "      <th>4</th>\n",
       "      <td>2</td>\n",
       "      <td>6164.381824</td>\n",
       "      <td>40.0</td>\n",
       "      <td>6.0</td>\n",
       "      <td>0.0</td>\n",
       "      <td>199.0</td>\n",
       "      <td>ultra</td>\n",
       "    </tr>\n",
       "    <tr>\n",
       "      <th>6</th>\n",
       "      <td>1</td>\n",
       "      <td>3255.338202</td>\n",
       "      <td>14.0</td>\n",
       "      <td>6.0</td>\n",
       "      <td>0.0</td>\n",
       "      <td>199.0</td>\n",
       "      <td>ultra</td>\n",
       "    </tr>\n",
       "    <tr>\n",
       "      <th>7</th>\n",
       "      <td>2</td>\n",
       "      <td>6780.722964</td>\n",
       "      <td>48.0</td>\n",
       "      <td>6.0</td>\n",
       "      <td>0.0</td>\n",
       "      <td>199.0</td>\n",
       "      <td>ultra</td>\n",
       "    </tr>\n",
       "  </tbody>\n",
       "</table>\n",
       "</div>"
      ],
      "text/plain": [
       "                      count      distance  duration  minute_price  \\\n",
       "user_id month_number                                                \n",
       "1       1                 2   7027.511294      42.0           6.0   \n",
       "        4                 1    754.159807       7.0           6.0   \n",
       "        8                 2   6723.470560      46.0           6.0   \n",
       "        10                2   5809.911100      32.0           6.0   \n",
       "        11                3   7003.499363      56.0           6.0   \n",
       "        12                2   6751.629942      28.0           6.0   \n",
       "2       3                 3  10187.723006      63.0           6.0   \n",
       "        4                 2   6164.381824      40.0           6.0   \n",
       "        6                 1   3255.338202      14.0           6.0   \n",
       "        7                 2   6780.722964      48.0           6.0   \n",
       "\n",
       "                      start_ride_price  subscription_fee subscription_type  \n",
       "user_id month_number                                                        \n",
       "1       1                          0.0             199.0             ultra  \n",
       "        4                          0.0             199.0             ultra  \n",
       "        8                          0.0             199.0             ultra  \n",
       "        10                         0.0             199.0             ultra  \n",
       "        11                         0.0             199.0             ultra  \n",
       "        12                         0.0             199.0             ultra  \n",
       "2       3                          0.0             199.0             ultra  \n",
       "        4                          0.0             199.0             ultra  \n",
       "        6                          0.0             199.0             ultra  \n",
       "        7                          0.0             199.0             ultra  "
      ]
     },
     "execution_count": 45,
     "metadata": {},
     "output_type": "execute_result"
    }
   ],
   "source": [
    "users_months['subscription_type'].replace(1, 'ultra', inplace=True)\n",
    "users_months['subscription_type'].replace(0, 'free', inplace=True)\n",
    "\n",
    "users_months.head(10)"
   ]
  },
  {
   "cell_type": "code",
   "execution_count": 46,
   "id": "d54a3e67",
   "metadata": {},
   "outputs": [
    {
     "data": {
      "text/html": [
       "<div>\n",
       "<style scoped>\n",
       "    .dataframe tbody tr th:only-of-type {\n",
       "        vertical-align: middle;\n",
       "    }\n",
       "\n",
       "    .dataframe tbody tr th {\n",
       "        vertical-align: top;\n",
       "    }\n",
       "\n",
       "    .dataframe thead th {\n",
       "        text-align: right;\n",
       "    }\n",
       "</style>\n",
       "<table border=\"1\" class=\"dataframe\">\n",
       "  <thead>\n",
       "    <tr style=\"text-align: right;\">\n",
       "      <th></th>\n",
       "      <th>user_id</th>\n",
       "      <th>month_number</th>\n",
       "      <th>subscription_type</th>\n",
       "      <th>minute_price</th>\n",
       "      <th>start_ride_price</th>\n",
       "      <th>subscription_fee</th>\n",
       "      <th>duration</th>\n",
       "      <th>distance</th>\n",
       "      <th>date</th>\n",
       "      <th>revenue</th>\n",
       "    </tr>\n",
       "  </thead>\n",
       "  <tbody>\n",
       "    <tr>\n",
       "      <th>0</th>\n",
       "      <td>1</td>\n",
       "      <td>1</td>\n",
       "      <td>True</td>\n",
       "      <td>6</td>\n",
       "      <td>0</td>\n",
       "      <td>199</td>\n",
       "      <td>42.0</td>\n",
       "      <td>7027.511294</td>\n",
       "      <td>2</td>\n",
       "      <td>451.0</td>\n",
       "    </tr>\n",
       "    <tr>\n",
       "      <th>1</th>\n",
       "      <td>1</td>\n",
       "      <td>4</td>\n",
       "      <td>True</td>\n",
       "      <td>6</td>\n",
       "      <td>0</td>\n",
       "      <td>199</td>\n",
       "      <td>7.0</td>\n",
       "      <td>754.159807</td>\n",
       "      <td>1</td>\n",
       "      <td>241.0</td>\n",
       "    </tr>\n",
       "    <tr>\n",
       "      <th>2</th>\n",
       "      <td>1</td>\n",
       "      <td>8</td>\n",
       "      <td>True</td>\n",
       "      <td>6</td>\n",
       "      <td>0</td>\n",
       "      <td>199</td>\n",
       "      <td>46.0</td>\n",
       "      <td>6723.470560</td>\n",
       "      <td>2</td>\n",
       "      <td>475.0</td>\n",
       "    </tr>\n",
       "    <tr>\n",
       "      <th>3</th>\n",
       "      <td>1</td>\n",
       "      <td>10</td>\n",
       "      <td>True</td>\n",
       "      <td>6</td>\n",
       "      <td>0</td>\n",
       "      <td>199</td>\n",
       "      <td>32.0</td>\n",
       "      <td>5809.911100</td>\n",
       "      <td>2</td>\n",
       "      <td>391.0</td>\n",
       "    </tr>\n",
       "    <tr>\n",
       "      <th>4</th>\n",
       "      <td>1</td>\n",
       "      <td>11</td>\n",
       "      <td>True</td>\n",
       "      <td>6</td>\n",
       "      <td>0</td>\n",
       "      <td>199</td>\n",
       "      <td>56.0</td>\n",
       "      <td>7003.499363</td>\n",
       "      <td>3</td>\n",
       "      <td>535.0</td>\n",
       "    </tr>\n",
       "  </tbody>\n",
       "</table>\n",
       "</div>"
      ],
      "text/plain": [
       "   user_id  month_number  subscription_type  minute_price  start_ride_price  \\\n",
       "0        1             1               True             6                 0   \n",
       "1        1             4               True             6                 0   \n",
       "2        1             8               True             6                 0   \n",
       "3        1            10               True             6                 0   \n",
       "4        1            11               True             6                 0   \n",
       "\n",
       "   subscription_fee  duration     distance  date  revenue  \n",
       "0               199      42.0  7027.511294     2    451.0  \n",
       "1               199       7.0   754.159807     1    241.0  \n",
       "2               199      46.0  6723.470560     2    475.0  \n",
       "3               199      32.0  5809.911100     2    391.0  \n",
       "4               199      56.0  7003.499363     3    535.0  "
      ]
     },
     "metadata": {},
     "output_type": "display_data"
    }
   ],
   "source": [
    "agg_tbl = total.groupby(['user_id', 'month_number']).agg({'subscription_type' : 'first'\n",
    "                                                            , 'minute_price' : 'first'\n",
    "                                                            , 'start_ride_price' : 'first'\n",
    "                                                            , 'subscription_fee' : 'first'\n",
    "                                                            , 'duration' : 'sum'\n",
    "                                                            , 'distance' : 'sum'\n",
    "                                                            , 'date' : 'count'\n",
    "                                                       }\n",
    "                                                      ).reset_index() # формируем сводную таблицу\n",
    "\n",
    "agg_tbl['revenue'] = (agg_tbl['duration'] * agg_tbl['minute_price'] \n",
    "                     + agg_tbl['start_ride_price'] * agg_tbl['date'] # считаем выручку\n",
    "                     + agg_tbl['subscription_fee']\n",
    "                       )\n",
    "\n",
    "display(agg_tbl.head())"
   ]
  },
  {
   "cell_type": "markdown",
   "id": "662410c0",
   "metadata": {},
   "source": [
    "##### Добавление в агрегированный датафрейм столбца с помесячной выручкой, которую принёс каждый пользователь"
   ]
  },
  {
   "cell_type": "code",
   "execution_count": 47,
   "id": "d2275e93",
   "metadata": {},
   "outputs": [
    {
     "data": {
      "text/html": [
       "<div>\n",
       "<style scoped>\n",
       "    .dataframe tbody tr th:only-of-type {\n",
       "        vertical-align: middle;\n",
       "    }\n",
       "\n",
       "    .dataframe tbody tr th {\n",
       "        vertical-align: top;\n",
       "    }\n",
       "\n",
       "    .dataframe thead th {\n",
       "        text-align: right;\n",
       "    }\n",
       "</style>\n",
       "<table border=\"1\" class=\"dataframe\">\n",
       "  <thead>\n",
       "    <tr style=\"text-align: right;\">\n",
       "      <th></th>\n",
       "      <th></th>\n",
       "      <th>count</th>\n",
       "      <th>distance</th>\n",
       "      <th>duration</th>\n",
       "      <th>subscription_fee</th>\n",
       "      <th>subscription_type</th>\n",
       "      <th>revenue</th>\n",
       "    </tr>\n",
       "    <tr>\n",
       "      <th>user_id</th>\n",
       "      <th>month_number</th>\n",
       "      <th></th>\n",
       "      <th></th>\n",
       "      <th></th>\n",
       "      <th></th>\n",
       "      <th></th>\n",
       "      <th></th>\n",
       "    </tr>\n",
       "  </thead>\n",
       "  <tbody>\n",
       "    <tr>\n",
       "      <th rowspan=\"6\" valign=\"top\">1</th>\n",
       "      <th>1</th>\n",
       "      <td>2</td>\n",
       "      <td>7027.511294</td>\n",
       "      <td>42.0</td>\n",
       "      <td>199.0</td>\n",
       "      <td>ultra</td>\n",
       "      <td>451</td>\n",
       "    </tr>\n",
       "    <tr>\n",
       "      <th>4</th>\n",
       "      <td>1</td>\n",
       "      <td>754.159807</td>\n",
       "      <td>7.0</td>\n",
       "      <td>199.0</td>\n",
       "      <td>ultra</td>\n",
       "      <td>241</td>\n",
       "    </tr>\n",
       "    <tr>\n",
       "      <th>8</th>\n",
       "      <td>2</td>\n",
       "      <td>6723.470560</td>\n",
       "      <td>46.0</td>\n",
       "      <td>199.0</td>\n",
       "      <td>ultra</td>\n",
       "      <td>475</td>\n",
       "    </tr>\n",
       "    <tr>\n",
       "      <th>10</th>\n",
       "      <td>2</td>\n",
       "      <td>5809.911100</td>\n",
       "      <td>32.0</td>\n",
       "      <td>199.0</td>\n",
       "      <td>ultra</td>\n",
       "      <td>391</td>\n",
       "    </tr>\n",
       "    <tr>\n",
       "      <th>11</th>\n",
       "      <td>3</td>\n",
       "      <td>7003.499363</td>\n",
       "      <td>56.0</td>\n",
       "      <td>199.0</td>\n",
       "      <td>ultra</td>\n",
       "      <td>535</td>\n",
       "    </tr>\n",
       "    <tr>\n",
       "      <th>12</th>\n",
       "      <td>2</td>\n",
       "      <td>6751.629942</td>\n",
       "      <td>28.0</td>\n",
       "      <td>199.0</td>\n",
       "      <td>ultra</td>\n",
       "      <td>367</td>\n",
       "    </tr>\n",
       "    <tr>\n",
       "      <th rowspan=\"4\" valign=\"top\">2</th>\n",
       "      <th>3</th>\n",
       "      <td>3</td>\n",
       "      <td>10187.723006</td>\n",
       "      <td>63.0</td>\n",
       "      <td>199.0</td>\n",
       "      <td>ultra</td>\n",
       "      <td>577</td>\n",
       "    </tr>\n",
       "    <tr>\n",
       "      <th>4</th>\n",
       "      <td>2</td>\n",
       "      <td>6164.381824</td>\n",
       "      <td>40.0</td>\n",
       "      <td>199.0</td>\n",
       "      <td>ultra</td>\n",
       "      <td>439</td>\n",
       "    </tr>\n",
       "    <tr>\n",
       "      <th>6</th>\n",
       "      <td>1</td>\n",
       "      <td>3255.338202</td>\n",
       "      <td>14.0</td>\n",
       "      <td>199.0</td>\n",
       "      <td>ultra</td>\n",
       "      <td>283</td>\n",
       "    </tr>\n",
       "    <tr>\n",
       "      <th>7</th>\n",
       "      <td>2</td>\n",
       "      <td>6780.722964</td>\n",
       "      <td>48.0</td>\n",
       "      <td>199.0</td>\n",
       "      <td>ultra</td>\n",
       "      <td>487</td>\n",
       "    </tr>\n",
       "  </tbody>\n",
       "</table>\n",
       "</div>"
      ],
      "text/plain": [
       "                      count      distance  duration  subscription_fee  \\\n",
       "user_id month_number                                                    \n",
       "1       1                 2   7027.511294      42.0             199.0   \n",
       "        4                 1    754.159807       7.0             199.0   \n",
       "        8                 2   6723.470560      46.0             199.0   \n",
       "        10                2   5809.911100      32.0             199.0   \n",
       "        11                3   7003.499363      56.0             199.0   \n",
       "        12                2   6751.629942      28.0             199.0   \n",
       "2       3                 3  10187.723006      63.0             199.0   \n",
       "        4                 2   6164.381824      40.0             199.0   \n",
       "        6                 1   3255.338202      14.0             199.0   \n",
       "        7                 2   6780.722964      48.0             199.0   \n",
       "\n",
       "                     subscription_type  revenue  \n",
       "user_id month_number                             \n",
       "1       1                        ultra      451  \n",
       "        4                        ultra      241  \n",
       "        8                        ultra      475  \n",
       "        10                       ultra      391  \n",
       "        11                       ultra      535  \n",
       "        12                       ultra      367  \n",
       "2       3                        ultra      577  \n",
       "        4                        ultra      439  \n",
       "        6                        ultra      283  \n",
       "        7                        ultra      487  "
      ]
     },
     "execution_count": 47,
     "metadata": {},
     "output_type": "execute_result"
    }
   ],
   "source": [
    "users_months['revenue'] = (\n",
    "    users_months['subscription_fee']\n",
    "    + users_months['minute_price'] * users_months['duration'] \n",
    "    + users_months['start_ride_price'] * users_months['count']\n",
    ")\n",
    "\n",
    "users_months['revenue'] = users_months['revenue'].astype('uint16')\n",
    "\n",
    "# Удаление столбцов со вспомогательными данными\n",
    "users_months = users_months.drop(['start_ride_price', 'minute_price'], axis=1)\n",
    "\n",
    "users_months.head(10)"
   ]
  },
  {
   "cell_type": "markdown",
   "id": "2012fac0",
   "metadata": {},
   "source": [
    "### Проверка гипотез"
   ]
  },
  {
   "cell_type": "markdown",
   "id": "44cf8ebd",
   "metadata": {},
   "source": [
    "##### Гипотеза 1\n",
    "Тратят ли пользователи с подпиской больше времени на поездки? Если да, то пользователи с подпиской могут быть «выгоднее» для компании.\n",
    "\n",
    "Нулевая и альтернативная гипотезы:\n",
    "\n",
    "1. Гипотеза H0: пользователи с подпиской ultra и free тратят одинаковое время на поездки.\n",
    "2. Гипотеза H1: пользователи с подпиской ultra тратят больше времени на поездки, чем free."
   ]
  },
  {
   "cell_type": "code",
   "execution_count": 49,
   "id": "58f29507",
   "metadata": {},
   "outputs": [
    {
     "name": "stdout",
     "output_type": "stream",
     "text": [
      "5.6757813771289775e-37\n",
      "\n",
      "Среднее значение с подпиской: 18.541985162805805\n",
      "Среднее значение без подписки: 17.39090929866398\n",
      "\n",
      "Отвергаем нулевую гипотезу\n"
     ]
    }
   ],
   "source": [
    "results = st.ttest_ind(ultra['duration'], free['duration'], equal_var=False, alternative='greater')\n",
    "\n",
    "print(results.pvalue)\n",
    "\n",
    "print()\n",
    "\n",
    "print('Среднее значение с подпиской:', ultra['duration'].mean())\n",
    "print('Среднее значение без подписки:', free['duration'].mean())\n",
    "\n",
    "print()\n",
    "\n",
    "if results.pvalue < .05:\n",
    "    print('Отвергаем нулевую гипотезу')\n",
    "else:\n",
    "    print('Не получилось отвергнуть нулевую гипотезу')"
   ]
  },
  {
   "cell_type": "markdown",
   "id": "9832016f",
   "metadata": {},
   "source": [
    "Отвергаем нулевую гипотезу и принимает альтернативную: среднее время поездок пользователей с подпиской больше времени поездок пользователей без подписки."
   ]
  },
  {
   "cell_type": "markdown",
   "id": "cd2b385d",
   "metadata": {},
   "source": [
    "##### Гипотеза 2\n",
    "Расстояние одной поездки в 3130 метров — оптимальное с точки зрения износа самоката с подпиской. \n",
    "\n",
    "Нулевая и альтернативная гипотезы:\n",
    "\n",
    "1. Гипотеза Н0: Среднее расстояние поездок с использованием подписки ultra равно оптимальному расстоянию в 3130 метров.\n",
    "2. Гипотеза Н1: Среднее расстояние поездок с использованием подписки ultra больше 3130 метров."
   ]
  },
  {
   "cell_type": "code",
   "execution_count": 50,
   "id": "d26b0cc5",
   "metadata": {},
   "outputs": [
    {
     "name": "stdout",
     "output_type": "stream",
     "text": [
      "0.9195368847849785\n",
      "\n",
      "3148.6372291760854\n",
      "3115.445388037025\n",
      "\n",
      "Не получилось отвергнуть нулевую гипотезу\n"
     ]
    }
   ],
   "source": [
    "results = st.ttest_1samp(ultra['distance'], 3130, alternative='greater')\n",
    "\n",
    "print(results.pvalue)\n",
    "print()\n",
    "print(ultra['distance'].median())\n",
    "print(ultra['distance'].mean())\n",
    "print()\n",
    "\n",
    "if results.pvalue < .05:\n",
    "    print('Отвергаем нулевую гипотезу')\n",
    "else:\n",
    "    print('Не получилось отвергнуть нулевую гипотезу')"
   ]
  },
  {
   "cell_type": "markdown",
   "id": "7cc11d4b",
   "metadata": {},
   "source": [
    "Не получилось отвергнуть гипотезу о том, что среднее расстояние поездок с использованием подписки ultra равно 3130 метров."
   ]
  },
  {
   "cell_type": "markdown",
   "id": "dbda2aeb",
   "metadata": {},
   "source": [
    "##### Гипотеза 3\n",
    "Помесячная выручка от пользователей с подпиской по месяцам выше, чем выручка от пользователей без подписки. \n",
    "\n",
    "Нулевая и альтернативная гипотезы:\n",
    "1. Гипотеза Н0: Средняя выручка от поездок с разной подпиской равна.\n",
    "2. Гипотеза Н1: Средняя выручка от поездок с использованием подписки ultra выше, чем выручка с ипользованием подписки free."
   ]
  },
  {
   "cell_type": "code",
   "execution_count": 51,
   "id": "12362489",
   "metadata": {},
   "outputs": [
    {
     "name": "stdout",
     "output_type": "stream",
     "text": [
      "\n",
      "Среднее значение без подписки:  328.6413651073845\n",
      "Среднее значение с подпиской:  362.7921906022502\n",
      "\n",
      "8.874140893976874e-40\n",
      "\n",
      "Отвергаем нулевую гипотезу\n"
     ]
    }
   ],
   "source": [
    "df_ultra = users_months[users_months['subscription_type'] == 'ultra']\n",
    "df_free = users_months[users_months['subscription_type'] == 'free']\n",
    "\n",
    "results = st.ttest_ind(df_ultra['revenue'], df_free['revenue'],\n",
    "    equal_var=False,\n",
    "    alternative='greater'\n",
    ")\n",
    "\n",
    "print()\n",
    "print('Среднее значение без подписки: ', users_months.loc[users_months['subscription_type'] == 'free', 'revenue'].mean())\n",
    "print('Среднее значение с подпиской: ', users_months.loc[users_months['subscription_type'] == 'ultra', 'revenue'].mean())\n",
    "print()\n",
    "print(results.pvalue)\n",
    "print()\n",
    "if results.pvalue < .05:\n",
    "    print('Отвергаем нулевую гипотезу')\n",
    "else:\n",
    "    print('Не получилось отвергнуть нулевую гипотезу')"
   ]
  },
  {
   "cell_type": "markdown",
   "id": "e3fbe864",
   "metadata": {},
   "source": [
    "Полученное значение p-value меньше заданного уровня значимости, поэтому можно отвергнуть нулевую гипотезу. Есть основания говорить, что помесячная выручка от пользователи с подпиской больше."
   ]
  },
  {
   "cell_type": "markdown",
   "id": "e33d9690",
   "metadata": {},
   "source": [
    "###### Представьте такую ситуацию: техническая команда сервиса обновила сервера, с которыми взаимодействует мобильное приложение. Она надеется, что из-за этого количество обращений в техподдержку значимо снизилось. Некоторый файл содержит для каждого пользователя данные о количестве обращений до обновления и после него. Какой тест вам понадобился бы для проверки этой гипотезы?\n",
    "\n",
    "Нулевая и альтернативная гипотезы:\n",
    "\n",
    "Гипотеза Н0: Количество обращений в техподдержку осталось прежним.\n",
    "\n",
    "Гипотеза Н1: Количество обращений в техподдержку снизилось."
   ]
  },
  {
   "cell_type": "markdown",
   "id": "b4dfe69c",
   "metadata": {},
   "source": [
    "В данном случае нужно применить тест проверки гипотез о равенстве средних для зависимых выборок метод scipy.stats.ttest_rel(before, after, alternative=\"greater\"))"
   ]
  },
  {
   "cell_type": "markdown",
   "id": "e2582194",
   "metadata": {},
   "source": [
    "### Вывод проекта"
   ]
  },
  {
   "cell_type": "markdown",
   "id": "70261891",
   "metadata": {},
   "source": [
    "Основная цель проекта достигнута. Проанализированы данные сервиса аренды самокатов GoFast и проверены некоторые гипотезы, которые могут помочь бизнесу вырасти.\n",
    "\n",
    "В ходе проекта были проделаны следующие шаги:\n",
    "\n",
    "1. Загрузка данных.\n",
    "2. Предобработка данных:\n",
    "* Корректировка типов данных столбцов.\n",
    "* Добавление столбцов.\n",
    "* Обработка неявных дубликатов.\n",
    "\n",
    "3. Исследовательский анализ данных:\n",
    "* Частота встречаемости городов.\n",
    "* Соотношение пользователей с подпиской и без нее.\n",
    "* Возраст пользователей.\n",
    "* Расстояние, которое пользователь преодолел за одну поездку.\n",
    "* Продолжительность поездок.\n",
    "4. Объединение данных.\n",
    "* Объединение данных о пользователях, поездках и подписках в один датафрейм методом merge().\n",
    "* Создание двух датафреймов с пользователями, имеющими подписку и без нее, на основе общего датафрейма.\n",
    "* Визуализация данных о расстоянии и времени поездок для пользователей обеих категорий.\n",
    "5. Подсчёт выручки.\n",
    "* Создание датафрейма, агрегированного по пользователям, на основе total.\n",
    "* Добавление столбца в агрегированный датафрейм с помесечной выручкой по каждому пользователю\n",
    "6. Проверка гипотез:\n",
    "* Тратят ли пользователи с подпиской больше времени на поездки?\n",
    "* Расстояние, которое проезжают пользователи с подпиской за одну поездку, не превышает 3130 метров?\n",
    "* Помесчячная выручка от пользователей с подпиской по месяцам выше, чем выручка от пользователей без подписки? \n",
    "* Каким тестом проверить гипотезу о снижении количества пользовательских обращений после обновления сервиса, с которым взаимодействует мобильное приложение?"
   ]
  },
  {
   "cell_type": "markdown",
   "id": "2bfbf90a",
   "metadata": {},
   "source": [
    "В ходе исследовательского анализа данных было выявлено:\n",
    "\n",
    "1. Пользователей с подпиской «free» всего 835, что составляет 54.43% от общего количества и на 136 больше, чем с подпиской «ultra».\n",
    "2. Услугами сервиса аренды самокатов пользуются люди от 12 до 43 лет. Максимальное количество пользователей в возрасте 25 лет, этот же возраст является медианным.\n",
    "3. Максимальное количество в 219 поездок совершено в Пятигорске. Минимальное количество в 168 поездок совершено в Москве.\n",
    "4. За одну поездку пользователи преодолевают от 1 до 7211 метров. Медиана всех значений равна 3134 метров. Наблюдаются два пика. Малый пик около 700 метров, большой пик около 3200 метров. Между пиками значения нормально распределены.\n",
    "5. Пользователи пользуются услугой от 0 до 41 минуты. Распределение кривой близко к нормальному. Наблюдается пик в 2-3 минутах. Медиана составляет 18 минут. Наблюдается аномалия размером менее 100 поездок с продолжительностью в 1 минуту. Однако, они не являются выбрасами, т.к. подкреплены данными о поездках со столь же маленькими дистанциями."
   ]
  },
  {
   "cell_type": "markdown",
   "id": "7f8c3693",
   "metadata": {},
   "source": [
    "Проверка гипотез показала следующее:\n",
    "\n",
    "* Среднее время поездок пользователей с подпиской больше времени поездок пользователей без подписки.\n",
    "* Среднее расстояние поездок с использованием подписки ultra равно оптимальному расстоянию в 3130 метров.\n",
    "* Есть основания говорить, что помесячная выручка от пользователи с подпиской больше.\n",
    "* В данном примере нужно применить тест проверки гипотез о равенстве средних для зависимых выборок метод scipy.stats.ttest_rel(before, after, alternative=’less’))"
   ]
  }
 ],
 "metadata": {
  "kernelspec": {
   "display_name": "Python 3 (ipykernel)",
   "language": "python",
   "name": "python3"
  },
  "language_info": {
   "codemirror_mode": {
    "name": "ipython",
    "version": 3
   },
   "file_extension": ".py",
   "mimetype": "text/x-python",
   "name": "python",
   "nbconvert_exporter": "python",
   "pygments_lexer": "ipython3",
   "version": "3.9.12"
  }
 },
 "nbformat": 4,
 "nbformat_minor": 5
}
